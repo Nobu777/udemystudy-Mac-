{
 "cells": [
  {
   "cell_type": "code",
   "execution_count": 1,
   "metadata": {},
   "outputs": [],
   "source": [
    "import os\n",
    "import pandas as pd\n",
    "import sklearn\n",
    "import csv\n",
    "import datetime\n",
    "import numpy as np\n",
    "# 可視化用\n",
    "import japanize_matplotlib\n",
    "import seaborn as sns\n",
    "import matplotlib.pyplot as plt\n",
    "import warnings\n",
    "warnings.filterwarnings('ignore')"
   ]
  },
  {
   "cell_type": "markdown",
   "metadata": {},
   "source": [
    "## データの読み込み\n",
    "DJIAデータ\n",
    "\n",
    "ダウ・ジョーンズ・インデックスが算出するアメリカ合衆国の代表的な株価指数\n",
    "\n",
    "https://fred.stlouisfed.org/series/DJIA/"
   ]
  },
  {
   "cell_type": "markdown",
   "metadata": {},
   "source": [
    "## データのクリーニング"
   ]
  },
  {
   "cell_type": "code",
   "execution_count": null,
   "metadata": {},
   "outputs": [],
   "source": []
  },
  {
   "cell_type": "markdown",
   "metadata": {},
   "source": [
    "## Prophetによる時系列分析\n",
    "状態空間モデル、ARIMAといった、統計モデルを扱うには、統計に関する知識が一定以上必要となります。\n",
    "今回の講義では、実運用で活用させる、という意味でProphetを採用しました。"
   ]
  },
  {
   "cell_type": "markdown",
   "metadata": {},
   "source": [
    "* 公式github\n",
    "https://github.com/facebook/prophet"
   ]
  },
  {
   "cell_type": "markdown",
   "metadata": {},
   "source": [
    "### Prophetの仕組み\n",
    "\n",
    "$$\n",
    "y(t) = g(t) + s(t) + h(t) + e(t)\n",
    "$$\n",
    "\n",
    "* y(t): 予測値\n",
    "* g(t): growth, 季節性のない成長度合いを表現\n",
    "* s(t): seasonality: weekly, yearlyの季節性を表現\n",
    "* h(t): holiday: 休日の影響\n",
    "* e(t): error: 誤差を表現"
   ]
  },
  {
   "cell_type": "markdown",
   "metadata": {},
   "source": [
    "## Prophetを実装してみよう"
   ]
  },
  {
   "cell_type": "code",
   "execution_count": 17,
   "metadata": {
    "scrolled": true
   },
   "outputs": [],
   "source": [
    "from fbprophet import Prophet"
   ]
  },
  {
   "cell_type": "markdown",
   "metadata": {},
   "source": [
    "## 異常検知プログラムを作成してみる"
   ]
  },
  {
   "cell_type": "code",
   "execution_count": null,
   "metadata": {},
   "outputs": [],
   "source": []
  },
  {
   "cell_type": "markdown",
   "metadata": {},
   "source": [
    "## 作るもの\n",
    "* 前日までのデータで学習\n",
    "* 当日の予測値(yhat)が、yhat_lowerを下回る、もしくはyhat_upperを上回る場合に異常値検知を実施するプログラム"
   ]
  },
  {
   "cell_type": "code",
   "execution_count": null,
   "metadata": {},
   "outputs": [],
   "source": []
  }
 ],
 "metadata": {
  "kernelspec": {
   "display_name": "Python 3",
   "language": "python",
   "name": "python3"
  },
  "language_info": {
   "codemirror_mode": {
    "name": "ipython",
    "version": 3
   },
   "file_extension": ".py",
   "mimetype": "text/x-python",
   "name": "python",
   "nbconvert_exporter": "python",
   "pygments_lexer": "ipython3",
   "version": "3.7.1"
  }
 },
 "nbformat": 4,
 "nbformat_minor": 2
}
