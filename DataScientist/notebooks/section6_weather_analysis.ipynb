{
 "cells": [
  {
   "cell_type": "markdown",
   "metadata": {},
   "source": [
    "# ライブラリのインポート"
   ]
  },
  {
   "cell_type": "code",
   "execution_count": 2,
   "metadata": {},
   "outputs": [],
   "source": [
    "import os\n",
    "import pandas as pd\n",
    "import sklearn\n",
    "import csv\n",
    "import datetime\n",
    "# 可視化用\n",
    "import japanize_matplotlib\n",
    "import seaborn as sns\n",
    "import matplotlib.pyplot as plt"
   ]
  },
  {
   "cell_type": "markdown",
   "metadata": {},
   "source": [
    "# データの読み込み"
   ]
  },
  {
   "cell_type": "code",
   "execution_count": 3,
   "metadata": {},
   "outputs": [
    {
     "name": "stdout",
     "output_type": "stream",
     "text": [
      "date,high_temp,low_temp,weather_am,weather_pm\r",
      "\r\n",
      "2013/1/1,9.6,3,晴,快晴\r",
      "\r\n",
      "2013/1/2,14.4,4.2,快晴,快晴\r",
      "\r\n",
      "2013/1/3,9.9,1.8,曇時々晴,晴\r",
      "\r\n",
      "2013/1/4,6.9,1,快晴,晴\r",
      "\r\n",
      "2013/1/5,4.8,0.2,曇,薄曇後晴\r",
      "\r\n",
      "2013/1/6,10.3,-1.4,薄曇一時晴,薄曇後晴\r",
      "\r\n",
      "2013/1/7,8.9,2.1,晴時々曇,晴時々曇\r",
      "\r\n",
      "2013/1/8,11.4,2.6,晴,晴後曇\r",
      "\r\n",
      "2013/1/9,9.4,4.4,晴時々曇,曇一時晴\r",
      "\r\n"
     ]
    }
   ],
   "source": [
    "!head ../data/weather_201301_201908_cleaned.csv"
   ]
  },
  {
   "cell_type": "code",
   "execution_count": 4,
   "metadata": {},
   "outputs": [],
   "source": [
    "df = pd.read_csv(\"../data/weather_201301_201908_cleaned.csv\")"
   ]
  },
  {
   "cell_type": "code",
   "execution_count": 5,
   "metadata": {},
   "outputs": [
    {
     "data": {
      "text/html": [
       "<div>\n",
       "<style scoped>\n",
       "    .dataframe tbody tr th:only-of-type {\n",
       "        vertical-align: middle;\n",
       "    }\n",
       "\n",
       "    .dataframe tbody tr th {\n",
       "        vertical-align: top;\n",
       "    }\n",
       "\n",
       "    .dataframe thead th {\n",
       "        text-align: right;\n",
       "    }\n",
       "</style>\n",
       "<table border=\"1\" class=\"dataframe\">\n",
       "  <thead>\n",
       "    <tr style=\"text-align: right;\">\n",
       "      <th></th>\n",
       "      <th>date</th>\n",
       "      <th>high_temp</th>\n",
       "      <th>low_temp</th>\n",
       "      <th>weather_am</th>\n",
       "      <th>weather_pm</th>\n",
       "    </tr>\n",
       "  </thead>\n",
       "  <tbody>\n",
       "    <tr>\n",
       "      <td>0</td>\n",
       "      <td>2013/1/1</td>\n",
       "      <td>9.6</td>\n",
       "      <td>3.0</td>\n",
       "      <td>晴</td>\n",
       "      <td>快晴</td>\n",
       "    </tr>\n",
       "    <tr>\n",
       "      <td>1</td>\n",
       "      <td>2013/1/2</td>\n",
       "      <td>14.4</td>\n",
       "      <td>4.2</td>\n",
       "      <td>快晴</td>\n",
       "      <td>快晴</td>\n",
       "    </tr>\n",
       "    <tr>\n",
       "      <td>2</td>\n",
       "      <td>2013/1/3</td>\n",
       "      <td>9.9</td>\n",
       "      <td>1.8</td>\n",
       "      <td>曇時々晴</td>\n",
       "      <td>晴</td>\n",
       "    </tr>\n",
       "    <tr>\n",
       "      <td>3</td>\n",
       "      <td>2013/1/4</td>\n",
       "      <td>6.9</td>\n",
       "      <td>1.0</td>\n",
       "      <td>快晴</td>\n",
       "      <td>晴</td>\n",
       "    </tr>\n",
       "    <tr>\n",
       "      <td>4</td>\n",
       "      <td>2013/1/5</td>\n",
       "      <td>4.8</td>\n",
       "      <td>0.2</td>\n",
       "      <td>曇</td>\n",
       "      <td>薄曇後晴</td>\n",
       "    </tr>\n",
       "  </tbody>\n",
       "</table>\n",
       "</div>"
      ],
      "text/plain": [
       "       date  high_temp  low_temp weather_am weather_pm\n",
       "0  2013/1/1        9.6       3.0          晴         快晴\n",
       "1  2013/1/2       14.4       4.2         快晴         快晴\n",
       "2  2013/1/3        9.9       1.8       曇時々晴          晴\n",
       "3  2013/1/4        6.9       1.0         快晴          晴\n",
       "4  2013/1/5        4.8       0.2          曇       薄曇後晴"
      ]
     },
     "execution_count": 5,
     "metadata": {},
     "output_type": "execute_result"
    }
   ],
   "source": [
    "df.head()"
   ]
  },
  {
   "cell_type": "markdown",
   "metadata": {},
   "source": [
    "# EDA"
   ]
  },
  {
   "cell_type": "markdown",
   "metadata": {},
   "source": [
    "## DataCleaning"
   ]
  },
  {
   "cell_type": "code",
   "execution_count": 6,
   "metadata": {},
   "outputs": [
    {
     "data": {
      "text/html": [
       "<div>\n",
       "<style scoped>\n",
       "    .dataframe tbody tr th:only-of-type {\n",
       "        vertical-align: middle;\n",
       "    }\n",
       "\n",
       "    .dataframe tbody tr th {\n",
       "        vertical-align: top;\n",
       "    }\n",
       "\n",
       "    .dataframe thead th {\n",
       "        text-align: right;\n",
       "    }\n",
       "</style>\n",
       "<table border=\"1\" class=\"dataframe\">\n",
       "  <thead>\n",
       "    <tr style=\"text-align: right;\">\n",
       "      <th></th>\n",
       "      <th>date</th>\n",
       "      <th>high_temp</th>\n",
       "      <th>low_temp</th>\n",
       "      <th>weather_am</th>\n",
       "      <th>weather_pm</th>\n",
       "    </tr>\n",
       "  </thead>\n",
       "  <tbody>\n",
       "    <tr>\n",
       "      <td>0</td>\n",
       "      <td>2013/1/1</td>\n",
       "      <td>9.6</td>\n",
       "      <td>3.0</td>\n",
       "      <td>晴</td>\n",
       "      <td>快晴</td>\n",
       "    </tr>\n",
       "    <tr>\n",
       "      <td>1</td>\n",
       "      <td>2013/1/2</td>\n",
       "      <td>14.4</td>\n",
       "      <td>4.2</td>\n",
       "      <td>快晴</td>\n",
       "      <td>快晴</td>\n",
       "    </tr>\n",
       "    <tr>\n",
       "      <td>2</td>\n",
       "      <td>2013/1/3</td>\n",
       "      <td>9.9</td>\n",
       "      <td>1.8</td>\n",
       "      <td>曇時々晴</td>\n",
       "      <td>晴</td>\n",
       "    </tr>\n",
       "    <tr>\n",
       "      <td>3</td>\n",
       "      <td>2013/1/4</td>\n",
       "      <td>6.9</td>\n",
       "      <td>1.0</td>\n",
       "      <td>快晴</td>\n",
       "      <td>晴</td>\n",
       "    </tr>\n",
       "    <tr>\n",
       "      <td>4</td>\n",
       "      <td>2013/1/5</td>\n",
       "      <td>4.8</td>\n",
       "      <td>0.2</td>\n",
       "      <td>曇</td>\n",
       "      <td>薄曇後晴</td>\n",
       "    </tr>\n",
       "  </tbody>\n",
       "</table>\n",
       "</div>"
      ],
      "text/plain": [
       "       date  high_temp  low_temp weather_am weather_pm\n",
       "0  2013/1/1        9.6       3.0          晴         快晴\n",
       "1  2013/1/2       14.4       4.2         快晴         快晴\n",
       "2  2013/1/3        9.9       1.8       曇時々晴          晴\n",
       "3  2013/1/4        6.9       1.0         快晴          晴\n",
       "4  2013/1/5        4.8       0.2          曇       薄曇後晴"
      ]
     },
     "execution_count": 6,
     "metadata": {},
     "output_type": "execute_result"
    }
   ],
   "source": [
    "df.head()"
   ]
  },
  {
   "cell_type": "code",
   "execution_count": 7,
   "metadata": {},
   "outputs": [],
   "source": [
    "%matplotlib inline"
   ]
  },
  {
   "cell_type": "code",
   "execution_count": 8,
   "metadata": {},
   "outputs": [
    {
     "data": {
      "text/plain": [
       "<matplotlib.axes._subplots.AxesSubplot at 0x1a18a5aa10>"
      ]
     },
     "execution_count": 8,
     "metadata": {},
     "output_type": "execute_result"
    },
    {
     "data": {
      "image/png": "[encoded data removed]",
      "text/plain": [
       "<Figure size 432x288 with 1 Axes>"
      ]
     },
     "metadata": {
      "needs_background": "light"
     },
     "output_type": "display_data"
    }
   ],
   "source": [
    "# 最高気温\n",
    "df.plot(x=\"date\", y=\"high_temp\")"
   ]
  },
  {
   "cell_type": "code",
   "execution_count": 9,
   "metadata": {},
   "outputs": [
    {
     "data": {
      "text/plain": [
       "<matplotlib.axes._subplots.AxesSubplot at 0x1a191be8d0>"
      ]
     },
     "execution_count": 9,
     "metadata": {},
     "output_type": "execute_result"
    },
    {
     "data": {
      "image/png": "[encoded data removed]",
      "text/plain": [
       "<Figure size 432x288 with 1 Axes>"
      ]
     },
     "metadata": {
      "needs_background": "light"
     },
     "output_type": "display_data"
    }
   ],
   "source": [
    "# 最低気温\n",
    "df.plot(x=\"date\", y=\"low_temp\")"
   ]
  },
  {
   "cell_type": "code",
   "execution_count": 10,
   "metadata": {},
   "outputs": [
    {
     "data": {
      "text/plain": [
       "{'みぞれ一時曇後晴',\n",
       " 'みぞれ一時雪、あられを伴う',\n",
       " 'みぞれ時々雨',\n",
       " 'みぞれ時々雪一時曇',\n",
       " 'みぞれ時々雪後雨',\n",
       " '大雨',\n",
       " '大雨、雷を伴う',\n",
       " '大雨一時曇',\n",
       " '大雨後一時曇',\n",
       " '大雨後時々晴、みぞれを伴う',\n",
       " '大雨後時々曇',\n",
       " '大雨後晴',\n",
       " '大雨後晴時々曇',\n",
       " '大雨後曇',\n",
       " '大雨後薄曇、雷を伴う',\n",
       " '大雨後薄曇一時晴',\n",
       " '大雨時々曇',\n",
       " '大雨時々曇、雷を伴う',\n",
       " '大雪',\n",
       " '大雪一時曇',\n",
       " '快晴',\n",
       " '晴',\n",
       " '晴一時曇',\n",
       " '晴一時曇、雷を伴う',\n",
       " '晴一時曇後一時雨、雷を伴う',\n",
       " '晴一時曇後雨',\n",
       " '晴一時薄曇',\n",
       " '晴一時雨',\n",
       " '晴一時雨、雷を伴う',\n",
       " '晴一時雪',\n",
       " '晴後一時みぞれ、あられを伴う',\n",
       " '晴後一時曇',\n",
       " '晴後一時薄曇',\n",
       " '晴後一時雨',\n",
       " '晴後一時雨、雷を伴う',\n",
       " '晴後一時雨、雷・ひょうを伴う',\n",
       " '晴後時々曇',\n",
       " '晴後時々曇一時雨',\n",
       " '晴後時々薄曇',\n",
       " '晴後曇',\n",
       " '晴後曇一時雨',\n",
       " '晴後曇一時雨、雷を伴う',\n",
       " '晴後薄曇',\n",
       " '晴後雨一時曇',\n",
       " '晴後雨時々曇',\n",
       " '晴時々曇',\n",
       " '晴時々曇、みぞれを伴う',\n",
       " '晴時々曇、雷を伴う',\n",
       " '晴時々曇一時雨',\n",
       " '晴時々曇一時雨、雷を伴う',\n",
       " '晴時々曇一時雪',\n",
       " '晴時々曇後一時雨',\n",
       " '晴時々薄曇',\n",
       " '晴時々雨、雷を伴う',\n",
       " '曇',\n",
       " '曇、雷を伴う',\n",
       " '曇一時晴',\n",
       " '曇一時晴後一時雨',\n",
       " '曇一時晴後時々雨',\n",
       " '曇一時雨',\n",
       " '曇一時雨、雷を伴う',\n",
       " '曇一時雨後一時晴',\n",
       " '曇一時雨後時々晴',\n",
       " '曇一時雨後晴',\n",
       " '曇一時雨後晴、あられを伴う',\n",
       " '曇一時雨後晴、雷を伴う',\n",
       " '曇一時雪',\n",
       " '曇一時雪、あられを伴う',\n",
       " '曇一時雪後一時晴',\n",
       " '曇後一時大雨、雷を伴う',\n",
       " '曇後一時晴',\n",
       " '曇後一時雨',\n",
       " '曇後一時雨、雷を伴う',\n",
       " '曇後一時雨後晴',\n",
       " '曇後大雨',\n",
       " '曇後大雨、雷を伴う',\n",
       " '曇後時々晴',\n",
       " '曇後時々雨',\n",
       " '曇後晴',\n",
       " '曇後晴一時雨',\n",
       " '曇後雨',\n",
       " '曇時々みぞれ一時雨',\n",
       " '曇時々晴',\n",
       " '曇時々晴一時雨',\n",
       " '曇時々晴一時雨、雷を伴う',\n",
       " '曇時々晴一時雪',\n",
       " '曇時々晴後一時雨',\n",
       " '曇時々晴後一時雨、みぞれを伴う',\n",
       " '曇時々晴後一時雨、雷を伴う',\n",
       " '曇時々晴後一時雪',\n",
       " '曇時々晴後時々雨',\n",
       " '曇時々雨',\n",
       " '曇時々雨、みぞれを伴う',\n",
       " '曇時々雨、雷を伴う',\n",
       " '曇時々雨一時晴',\n",
       " '曇時々雨後一時晴',\n",
       " '曇時々雨後一時晴、雷を伴う',\n",
       " '曇時々雨後晴',\n",
       " '曇時々雨後晴、雷を伴う',\n",
       " '曇時々雪後雨',\n",
       " '薄曇',\n",
       " '薄曇一時晴',\n",
       " '薄曇一時雨',\n",
       " '薄曇後一時大雨、雷を伴う',\n",
       " '薄曇後一時晴',\n",
       " '薄曇後一時雨',\n",
       " '薄曇後時々晴',\n",
       " '薄曇後晴',\n",
       " '薄曇後雨',\n",
       " '薄曇時々晴',\n",
       " '薄曇時々晴一時雨',\n",
       " '薄曇時々晴一時雨、雷を伴う',\n",
       " '雨',\n",
       " '雨、みぞれを伴う',\n",
       " '雨一時みぞれ',\n",
       " '雨一時みぞれ後時々曇',\n",
       " '雨一時晴',\n",
       " '雨一時曇',\n",
       " '雨一時曇後晴',\n",
       " '雨後みぞれ',\n",
       " '雨後みぞれ一時雪',\n",
       " '雨後一時晴',\n",
       " '雨後一時曇',\n",
       " '雨後時々曇',\n",
       " '雨後時々曇、雷を伴う',\n",
       " '雨後晴',\n",
       " '雨後晴時々曇',\n",
       " '雨後曇',\n",
       " '雨後曇、あられを伴う',\n",
       " '雨後曇、雷を伴う',\n",
       " '雨後曇一時晴',\n",
       " '雨後曇時々晴',\n",
       " '雨後薄曇',\n",
       " '雨後薄曇一時晴',\n",
       " '雨時々みぞれ',\n",
       " '雨時々晴一時霧雨',\n",
       " '雨時々曇',\n",
       " '雨時々曇一時みぞれ、ひょうを伴う',\n",
       " '雨時々曇一時晴',\n",
       " '雨時々曇一時雪',\n",
       " '雨時々曇一時霧雨',\n",
       " '雨時々曇後晴',\n",
       " '雪',\n",
       " '雪一時みぞれ後雨',\n",
       " '雪一時雨',\n",
       " '雪後みぞれ時々曇',\n",
       " '雪後一時曇',\n",
       " '雪後曇',\n",
       " '雪時々曇',\n",
       " '霧雨一時雨'}"
      ]
     },
     "execution_count": 10,
     "metadata": {},
     "output_type": "execute_result"
    }
   ],
   "source": [
    "set(df[\"weather_am\"])"
   ]
  },
  {
   "cell_type": "code",
   "execution_count": 11,
   "metadata": {},
   "outputs": [],
   "source": [
    "# 晴、曇り、雨、雪"
   ]
  },
  {
   "cell_type": "code",
   "execution_count": 12,
   "metadata": {},
   "outputs": [
    {
     "data": {
      "text/plain": [
       "0.7558236272878536"
      ]
     },
     "execution_count": 12,
     "metadata": {},
     "output_type": "execute_result"
    }
   ],
   "source": [
    "df[\"weather_am_hare\"] = df[\"weather_am\"].apply(lambda x: 1 if \"晴\" in x else 0)\n",
    "df[\"weather_pm_hare\"] = df[\"weather_pm\"].apply(lambda x: 1 if \"晴\" in x else 0)\n",
    "df[\"weather_hare\"] = (df[\"weather_am_hare\"] + df[\"weather_pm_hare\"]).apply(lambda x: 1 if x > 0 else 0)\n",
    "df[\"weather_hare\"].mean()"
   ]
  },
  {
   "cell_type": "code",
   "execution_count": 13,
   "metadata": {},
   "outputs": [
    {
     "data": {
      "text/plain": [
       "0.8552412645590682"
      ]
     },
     "execution_count": 13,
     "metadata": {},
     "output_type": "execute_result"
    }
   ],
   "source": [
    "df[\"weather_am_kumori\"] = df[\"weather_am\"].apply(lambda x: 1 if \"曇\" in x else 0)\n",
    "df[\"weather_pm_kumori\"] = df[\"weather_pm\"].apply(lambda x: 1 if \"曇\" in x else 0)\n",
    "df[\"weather_kumori\"] = (df[\"weather_am_kumori\"] + df[\"weather_pm_kumori\"]).apply(lambda x: 1 if x > 0 else 0)\n",
    "df[\"weather_kumori\"].mean()"
   ]
  },
  {
   "cell_type": "code",
   "execution_count": 14,
   "metadata": {},
   "outputs": [
    {
     "data": {
      "text/plain": [
       "0.41555740432612315"
      ]
     },
     "execution_count": 14,
     "metadata": {},
     "output_type": "execute_result"
    }
   ],
   "source": [
    "df[\"weather_am_ame\"] = df[\"weather_am\"].apply(lambda x: 1 if \"雨\" in x else 0)\n",
    "df[\"weather_pm_ame\"] = df[\"weather_pm\"].apply(lambda x: 1 if \"雨\" in x else 0)\n",
    "df[\"weather_ame\"] = (df[\"weather_am_ame\"] + df[\"weather_pm_ame\"]).apply(lambda x: 1 if x > 0 else 0)\n",
    "df[\"weather_ame\"].mean()"
   ]
  },
  {
   "cell_type": "code",
   "execution_count": 15,
   "metadata": {},
   "outputs": [
    {
     "data": {
      "text/plain": [
       "0.015391014975041598"
      ]
     },
     "execution_count": 15,
     "metadata": {},
     "output_type": "execute_result"
    }
   ],
   "source": [
    "df[\"weather_am_yuki\"] = df[\"weather_am\"].apply(lambda x: 1 if \"雪\" in x else 0)\n",
    "df[\"weather_pm_yuki\"] = df[\"weather_pm\"].apply(lambda x: 1 if \"雪\" in x else 0)\n",
    "df[\"weather_yuki\"] = (df[\"weather_am_yuki\"] + df[\"weather_pm_yuki\"]).apply(lambda x: 1 if x > 0 else 0)\n",
    "df[\"weather_yuki\"].mean()"
   ]
  },
  {
   "cell_type": "code",
   "execution_count": 16,
   "metadata": {},
   "outputs": [
    {
     "data": {
      "text/plain": [
       "date                  object\n",
       "high_temp            float64\n",
       "low_temp             float64\n",
       "weather_am            object\n",
       "weather_pm            object\n",
       "weather_am_hare        int64\n",
       "weather_pm_hare        int64\n",
       "weather_hare           int64\n",
       "weather_am_kumori      int64\n",
       "weather_pm_kumori      int64\n",
       "weather_kumori         int64\n",
       "weather_am_ame         int64\n",
       "weather_pm_ame         int64\n",
       "weather_ame            int64\n",
       "weather_am_yuki        int64\n",
       "weather_pm_yuki        int64\n",
       "weather_yuki           int64\n",
       "dtype: object"
      ]
     },
     "execution_count": 16,
     "metadata": {},
     "output_type": "execute_result"
    }
   ],
   "source": [
    "df.dtypes"
   ]
  },
  {
   "cell_type": "code",
   "execution_count": 17,
   "metadata": {},
   "outputs": [],
   "source": [
    "df[\"date\"] = pd.to_datetime(df[\"date\"])\n",
    "df[\"month\"] = df[\"date\"].dt.month"
   ]
  },
  {
   "cell_type": "code",
   "execution_count": 18,
   "metadata": {},
   "outputs": [
    {
     "data": {
      "text/plain": [
       "0       1\n",
       "1       1\n",
       "2       1\n",
       "3       1\n",
       "4       1\n",
       "       ..\n",
       "2399    7\n",
       "2400    7\n",
       "2401    7\n",
       "2402    7\n",
       "2403    8\n",
       "Name: month, Length: 2404, dtype: int64"
      ]
     },
     "execution_count": 18,
     "metadata": {},
     "output_type": "execute_result"
    }
   ],
   "source": [
    "df[\"month\"]"
   ]
  },
  {
   "cell_type": "code",
   "execution_count": 19,
   "metadata": {},
   "outputs": [
    {
     "data": {
      "text/plain": [
       "0      2013-01-01\n",
       "1      2013-01-02\n",
       "2      2013-01-03\n",
       "3      2013-01-04\n",
       "4      2013-01-05\n",
       "          ...    \n",
       "2399   2019-07-28\n",
       "2400   2019-07-29\n",
       "2401   2019-07-30\n",
       "2402   2019-07-31\n",
       "2403   2019-08-01\n",
       "Name: date, Length: 2404, dtype: datetime64[ns]"
      ]
     },
     "execution_count": 19,
     "metadata": {},
     "output_type": "execute_result"
    }
   ],
   "source": [
    "df[\"date\"]"
   ]
  },
  {
   "cell_type": "markdown",
   "metadata": {},
   "source": [
    "## 月別集計"
   ]
  },
  {
   "cell_type": "code",
   "execution_count": 20,
   "metadata": {},
   "outputs": [
    {
     "data": {
      "text/plain": [
       "<matplotlib.axes._subplots.AxesSubplot at 0x1048eb290>"
      ]
     },
     "execution_count": 20,
     "metadata": {},
     "output_type": "execute_result"
    },
    {
     "data": {
      "image/png": "[encoded data removed]",
      "text/plain": [
       "<Figure size 432x288 with 1 Axes>"
      ]
     },
     "metadata": {
      "needs_background": "light"
     },
     "output_type": "display_data"
    }
   ],
   "source": [
    "df.groupby(\"month\").mean().plot.bar(y=\"high_temp\")"
   ]
  },
  {
   "cell_type": "code",
   "execution_count": 21,
   "metadata": {},
   "outputs": [
    {
     "data": {
      "text/plain": [
       "<matplotlib.axes._subplots.AxesSubplot at 0x1048eb350>"
      ]
     },
     "execution_count": 21,
     "metadata": {},
     "output_type": "execute_result"
    },
    {
     "data": {
      "image/png": "[encoded data removed]",
      "text/plain": [
       "<Figure size 432x288 with 1 Axes>"
      ]
     },
     "metadata": {
      "needs_background": "light"
     },
     "output_type": "display_data"
    }
   ],
   "source": [
    "df.groupby(\"month\").mean().plot.bar(y=\"low_temp\")"
   ]
  },
  {
   "cell_type": "code",
   "execution_count": 22,
   "metadata": {},
   "outputs": [
    {
     "data": {
      "text/plain": [
       "<matplotlib.axes._subplots.AxesSubplot at 0x1a186e8490>"
      ]
     },
     "execution_count": 22,
     "metadata": {},
     "output_type": "execute_result"
    },
    {
     "data": {
      "image/png": "[encoded data removed]",
      "text/plain": [
       "<Figure size 432x288 with 1 Axes>"
      ]
     },
     "metadata": {
      "needs_background": "light"
     },
     "output_type": "display_data"
    }
   ],
   "source": [
    "df.groupby(\"month\").mean().plot.bar(y=\"weather_hare\")"
   ]
  },
  {
   "cell_type": "code",
   "execution_count": 23,
   "metadata": {},
   "outputs": [
    {
     "data": {
      "text/plain": [
       "<matplotlib.axes._subplots.AxesSubplot at 0x1a18788210>"
      ]
     },
     "execution_count": 23,
     "metadata": {},
     "output_type": "execute_result"
    },
    {
     "data": {
      "image/png": "[encoded data removed]",
      "text/plain": [
       "<Figure size 432x288 with 1 Axes>"
      ]
     },
     "metadata": {
      "needs_background": "light"
     },
     "output_type": "display_data"
    }
   ],
   "source": [
    "df.groupby(\"month\").mean().plot.bar(y=\"weather_ame\")"
   ]
  },
  {
   "cell_type": "code",
   "execution_count": 24,
   "metadata": {},
   "outputs": [
    {
     "data": {
      "text/plain": [
       "<matplotlib.axes._subplots.AxesSubplot at 0x1a18392f10>"
      ]
     },
     "execution_count": 24,
     "metadata": {},
     "output_type": "execute_result"
    },
    {
     "data": {
      "image/png": "[encoded data removed]",
      "text/plain": [
       "<Figure size 432x288 with 1 Axes>"
      ]
     },
     "metadata": {
      "needs_background": "light"
     },
     "output_type": "display_data"
    }
   ],
   "source": [
    "df.groupby(\"month\").mean().plot.bar(y=\"weather_kumori\")"
   ]
  },
  {
   "cell_type": "code",
   "execution_count": 25,
   "metadata": {},
   "outputs": [],
   "source": [
    "# 雨か、雨じゃないかで最高気温を比較する"
   ]
  },
  {
   "cell_type": "code",
   "execution_count": 26,
   "metadata": {},
   "outputs": [
    {
     "data": {
      "text/plain": [
       "<matplotlib.axes._subplots.AxesSubplot at 0x1a189cc510>"
      ]
     },
     "execution_count": 26,
     "metadata": {},
     "output_type": "execute_result"
    },
    {
     "data": {
      "image/png": "[encoded data removed]",
      "text/plain": [
       "<Figure size 432x288 with 1 Axes>"
      ]
     },
     "metadata": {
      "needs_background": "light"
     },
     "output_type": "display_data"
    }
   ],
   "source": [
    "df.groupby(\"weather_ame\").mean().plot.bar(y=\"high_temp\")"
   ]
  },
  {
   "cell_type": "code",
   "execution_count": 27,
   "metadata": {},
   "outputs": [
    {
     "data": {
      "text/plain": [
       "<matplotlib.axes._subplots.AxesSubplot at 0x1a189a5910>"
      ]
     },
     "execution_count": 27,
     "metadata": {},
     "output_type": "execute_result"
    },
    {
     "data": {
      "image/png": "[encoded data removed]",
      "text/plain": [
       "<Figure size 432x288 with 1 Axes>"
      ]
     },
     "metadata": {
      "needs_background": "light"
     },
     "output_type": "display_data"
    }
   ],
   "source": [
    "df.groupby(\"weather_yuki\").mean().plot.bar(y=\"high_temp\")"
   ]
  },
  {
   "cell_type": "markdown",
   "metadata": {},
   "source": [
    "# 分析設計\n",
    "## モデルの概要\n",
    "当日までのデータを用いて、明日の天気を予測する\n",
    "\n",
    "## 説明変数\n",
    "* 時系列特徴\n",
    "    * 日付\n",
    "    * 週番号\n",
    "    * 月番号\n",
    "* 当日の天気\n",
    "* 当日の最高気温\n",
    "* 当日の最低気温\n",
    "\n",
    "## 目的変数\n",
    "* 明日の天気\n",
    "    * 晴れの確率\n",
    "    * 雨の確率\n",
    "    * 曇りの確率\n",
    "    * 雪の確率\n",
    "* 明日の最高気温\n",
    "* 明日の最低気温\n",
    "\n",
    "## 母集団\n",
    "train: 2013年1月~2017年12月までの天気データ\n",
    "\n",
    "validation: 2018年1月~2018年12月までの天気データ\n",
    "\n",
    "test : 2019年1月~2019年7月"
   ]
  },
  {
   "cell_type": "markdown",
   "metadata": {},
   "source": []
  },
  {
   "cell_type": "code",
   "execution_count": 28,
   "metadata": {},
   "outputs": [],
   "source": [
    "# 説明変数の作成"
   ]
  },
  {
   "cell_type": "code",
   "execution_count": 29,
   "metadata": {},
   "outputs": [
    {
     "data": {
      "text/plain": [
       "0         1\n",
       "1         2\n",
       "2         3\n",
       "3         4\n",
       "4         5\n",
       "       ... \n",
       "2399    209\n",
       "2400    210\n",
       "2401    211\n",
       "2402    212\n",
       "2403    213\n",
       "Name: dayofyear, Length: 2404, dtype: int64"
      ]
     },
     "execution_count": 29,
     "metadata": {},
     "output_type": "execute_result"
    }
   ],
   "source": [
    "# 時系列特徴\n",
    "df[\"dayofyear\"] = df[\"date\"].dt.dayofyear\n",
    "df[\"dayofyear\"]"
   ]
  },
  {
   "cell_type": "code",
   "execution_count": 30,
   "metadata": {},
   "outputs": [],
   "source": [
    "df[\"week\"] = df[\"date\"].dt.week\n",
    "df[\"month\"] = df[\"date\"].dt.month"
   ]
  },
  {
   "cell_type": "code",
   "execution_count": 31,
   "metadata": {},
   "outputs": [
    {
     "data": {
      "text/html": [
       "<div>\n",
       "<style scoped>\n",
       "    .dataframe tbody tr th:only-of-type {\n",
       "        vertical-align: middle;\n",
       "    }\n",
       "\n",
       "    .dataframe tbody tr th {\n",
       "        vertical-align: top;\n",
       "    }\n",
       "\n",
       "    .dataframe thead th {\n",
       "        text-align: right;\n",
       "    }\n",
       "</style>\n",
       "<table border=\"1\" class=\"dataframe\">\n",
       "  <thead>\n",
       "    <tr style=\"text-align: right;\">\n",
       "      <th></th>\n",
       "      <th>weather_hare</th>\n",
       "      <th>weather_ame</th>\n",
       "      <th>weather_kumori</th>\n",
       "      <th>weather_yuki</th>\n",
       "    </tr>\n",
       "  </thead>\n",
       "  <tbody>\n",
       "    <tr>\n",
       "      <td>0</td>\n",
       "      <td>1</td>\n",
       "      <td>0</td>\n",
       "      <td>0</td>\n",
       "      <td>0</td>\n",
       "    </tr>\n",
       "    <tr>\n",
       "      <td>1</td>\n",
       "      <td>1</td>\n",
       "      <td>0</td>\n",
       "      <td>0</td>\n",
       "      <td>0</td>\n",
       "    </tr>\n",
       "    <tr>\n",
       "      <td>2</td>\n",
       "      <td>1</td>\n",
       "      <td>0</td>\n",
       "      <td>1</td>\n",
       "      <td>0</td>\n",
       "    </tr>\n",
       "    <tr>\n",
       "      <td>3</td>\n",
       "      <td>1</td>\n",
       "      <td>0</td>\n",
       "      <td>0</td>\n",
       "      <td>0</td>\n",
       "    </tr>\n",
       "    <tr>\n",
       "      <td>4</td>\n",
       "      <td>1</td>\n",
       "      <td>0</td>\n",
       "      <td>1</td>\n",
       "      <td>0</td>\n",
       "    </tr>\n",
       "    <tr>\n",
       "      <td>...</td>\n",
       "      <td>...</td>\n",
       "      <td>...</td>\n",
       "      <td>...</td>\n",
       "      <td>...</td>\n",
       "    </tr>\n",
       "    <tr>\n",
       "      <td>2399</td>\n",
       "      <td>1</td>\n",
       "      <td>1</td>\n",
       "      <td>1</td>\n",
       "      <td>0</td>\n",
       "    </tr>\n",
       "    <tr>\n",
       "      <td>2400</td>\n",
       "      <td>1</td>\n",
       "      <td>0</td>\n",
       "      <td>1</td>\n",
       "      <td>0</td>\n",
       "    </tr>\n",
       "    <tr>\n",
       "      <td>2401</td>\n",
       "      <td>1</td>\n",
       "      <td>0</td>\n",
       "      <td>1</td>\n",
       "      <td>0</td>\n",
       "    </tr>\n",
       "    <tr>\n",
       "      <td>2402</td>\n",
       "      <td>1</td>\n",
       "      <td>0</td>\n",
       "      <td>1</td>\n",
       "      <td>0</td>\n",
       "    </tr>\n",
       "    <tr>\n",
       "      <td>2403</td>\n",
       "      <td>1</td>\n",
       "      <td>0</td>\n",
       "      <td>0</td>\n",
       "      <td>0</td>\n",
       "    </tr>\n",
       "  </tbody>\n",
       "</table>\n",
       "<p>2404 rows × 4 columns</p>\n",
       "</div>"
      ],
      "text/plain": [
       "      weather_hare  weather_ame  weather_kumori  weather_yuki\n",
       "0                1            0               0             0\n",
       "1                1            0               0             0\n",
       "2                1            0               1             0\n",
       "3                1            0               0             0\n",
       "4                1            0               1             0\n",
       "...            ...          ...             ...           ...\n",
       "2399             1            1               1             0\n",
       "2400             1            0               1             0\n",
       "2401             1            0               1             0\n",
       "2402             1            0               1             0\n",
       "2403             1            0               0             0\n",
       "\n",
       "[2404 rows x 4 columns]"
      ]
     },
     "execution_count": 31,
     "metadata": {},
     "output_type": "execute_result"
    }
   ],
   "source": [
    "# 天気\n",
    "df.loc[:, [\"weather_hare\", \"weather_ame\", \"weather_kumori\", \"weather_yuki\"]]"
   ]
  },
  {
   "cell_type": "code",
   "execution_count": 32,
   "metadata": {},
   "outputs": [
    {
     "data": {
      "text/html": [
       "<div>\n",
       "<style scoped>\n",
       "    .dataframe tbody tr th:only-of-type {\n",
       "        vertical-align: middle;\n",
       "    }\n",
       "\n",
       "    .dataframe tbody tr th {\n",
       "        vertical-align: top;\n",
       "    }\n",
       "\n",
       "    .dataframe thead th {\n",
       "        text-align: right;\n",
       "    }\n",
       "</style>\n",
       "<table border=\"1\" class=\"dataframe\">\n",
       "  <thead>\n",
       "    <tr style=\"text-align: right;\">\n",
       "      <th></th>\n",
       "      <th>high_temp</th>\n",
       "      <th>low_temp</th>\n",
       "    </tr>\n",
       "  </thead>\n",
       "  <tbody>\n",
       "    <tr>\n",
       "      <td>0</td>\n",
       "      <td>9.6</td>\n",
       "      <td>3.0</td>\n",
       "    </tr>\n",
       "    <tr>\n",
       "      <td>1</td>\n",
       "      <td>14.4</td>\n",
       "      <td>4.2</td>\n",
       "    </tr>\n",
       "    <tr>\n",
       "      <td>2</td>\n",
       "      <td>9.9</td>\n",
       "      <td>1.8</td>\n",
       "    </tr>\n",
       "    <tr>\n",
       "      <td>3</td>\n",
       "      <td>6.9</td>\n",
       "      <td>1.0</td>\n",
       "    </tr>\n",
       "    <tr>\n",
       "      <td>4</td>\n",
       "      <td>4.8</td>\n",
       "      <td>0.2</td>\n",
       "    </tr>\n",
       "    <tr>\n",
       "      <td>...</td>\n",
       "      <td>...</td>\n",
       "      <td>...</td>\n",
       "    </tr>\n",
       "    <tr>\n",
       "      <td>2399</td>\n",
       "      <td>32.3</td>\n",
       "      <td>25.0</td>\n",
       "    </tr>\n",
       "    <tr>\n",
       "      <td>2400</td>\n",
       "      <td>33.7</td>\n",
       "      <td>25.3</td>\n",
       "    </tr>\n",
       "    <tr>\n",
       "      <td>2401</td>\n",
       "      <td>33.6</td>\n",
       "      <td>26.0</td>\n",
       "    </tr>\n",
       "    <tr>\n",
       "      <td>2402</td>\n",
       "      <td>34.6</td>\n",
       "      <td>26.5</td>\n",
       "    </tr>\n",
       "    <tr>\n",
       "      <td>2403</td>\n",
       "      <td>35.0</td>\n",
       "      <td>26.3</td>\n",
       "    </tr>\n",
       "  </tbody>\n",
       "</table>\n",
       "<p>2404 rows × 2 columns</p>\n",
       "</div>"
      ],
      "text/plain": [
       "      high_temp  low_temp\n",
       "0           9.6       3.0\n",
       "1          14.4       4.2\n",
       "2           9.9       1.8\n",
       "3           6.9       1.0\n",
       "4           4.8       0.2\n",
       "...         ...       ...\n",
       "2399       32.3      25.0\n",
       "2400       33.7      25.3\n",
       "2401       33.6      26.0\n",
       "2402       34.6      26.5\n",
       "2403       35.0      26.3\n",
       "\n",
       "[2404 rows x 2 columns]"
      ]
     },
     "execution_count": 32,
     "metadata": {},
     "output_type": "execute_result"
    }
   ],
   "source": [
    "# 気温\n",
    "df.loc[:, [\"high_temp\", \"low_temp\"]]"
   ]
  },
  {
   "cell_type": "code",
   "execution_count": 33,
   "metadata": {},
   "outputs": [
    {
     "data": {
      "text/html": [
       "<div>\n",
       "<style scoped>\n",
       "    .dataframe tbody tr th:only-of-type {\n",
       "        vertical-align: middle;\n",
       "    }\n",
       "\n",
       "    .dataframe tbody tr th {\n",
       "        vertical-align: top;\n",
       "    }\n",
       "\n",
       "    .dataframe thead th {\n",
       "        text-align: right;\n",
       "    }\n",
       "</style>\n",
       "<table border=\"1\" class=\"dataframe\">\n",
       "  <thead>\n",
       "    <tr style=\"text-align: right;\">\n",
       "      <th></th>\n",
       "      <th>date</th>\n",
       "      <th>high_temp</th>\n",
       "      <th>low_temp</th>\n",
       "      <th>weather_am</th>\n",
       "      <th>weather_pm</th>\n",
       "      <th>weather_am_hare</th>\n",
       "      <th>weather_pm_hare</th>\n",
       "      <th>weather_hare</th>\n",
       "      <th>weather_am_kumori</th>\n",
       "      <th>weather_pm_kumori</th>\n",
       "      <th>weather_kumori</th>\n",
       "      <th>weather_am_ame</th>\n",
       "      <th>weather_pm_ame</th>\n",
       "      <th>weather_ame</th>\n",
       "      <th>weather_am_yuki</th>\n",
       "      <th>weather_pm_yuki</th>\n",
       "      <th>weather_yuki</th>\n",
       "      <th>month</th>\n",
       "      <th>dayofyear</th>\n",
       "      <th>week</th>\n",
       "    </tr>\n",
       "  </thead>\n",
       "  <tbody>\n",
       "    <tr>\n",
       "      <td>0</td>\n",
       "      <td>2012-12-31</td>\n",
       "      <td>9.6</td>\n",
       "      <td>3.0</td>\n",
       "      <td>晴</td>\n",
       "      <td>快晴</td>\n",
       "      <td>1</td>\n",
       "      <td>1</td>\n",
       "      <td>1</td>\n",
       "      <td>0</td>\n",
       "      <td>0</td>\n",
       "      <td>0</td>\n",
       "      <td>0</td>\n",
       "      <td>0</td>\n",
       "      <td>0</td>\n",
       "      <td>0</td>\n",
       "      <td>0</td>\n",
       "      <td>0</td>\n",
       "      <td>1</td>\n",
       "      <td>1</td>\n",
       "      <td>1</td>\n",
       "    </tr>\n",
       "    <tr>\n",
       "      <td>1</td>\n",
       "      <td>2013-01-01</td>\n",
       "      <td>14.4</td>\n",
       "      <td>4.2</td>\n",
       "      <td>快晴</td>\n",
       "      <td>快晴</td>\n",
       "      <td>1</td>\n",
       "      <td>1</td>\n",
       "      <td>1</td>\n",
       "      <td>0</td>\n",
       "      <td>0</td>\n",
       "      <td>0</td>\n",
       "      <td>0</td>\n",
       "      <td>0</td>\n",
       "      <td>0</td>\n",
       "      <td>0</td>\n",
       "      <td>0</td>\n",
       "      <td>0</td>\n",
       "      <td>1</td>\n",
       "      <td>2</td>\n",
       "      <td>1</td>\n",
       "    </tr>\n",
       "    <tr>\n",
       "      <td>2</td>\n",
       "      <td>2013-01-02</td>\n",
       "      <td>9.9</td>\n",
       "      <td>1.8</td>\n",
       "      <td>曇時々晴</td>\n",
       "      <td>晴</td>\n",
       "      <td>1</td>\n",
       "      <td>1</td>\n",
       "      <td>1</td>\n",
       "      <td>1</td>\n",
       "      <td>0</td>\n",
       "      <td>1</td>\n",
       "      <td>0</td>\n",
       "      <td>0</td>\n",
       "      <td>0</td>\n",
       "      <td>0</td>\n",
       "      <td>0</td>\n",
       "      <td>0</td>\n",
       "      <td>1</td>\n",
       "      <td>3</td>\n",
       "      <td>1</td>\n",
       "    </tr>\n",
       "    <tr>\n",
       "      <td>3</td>\n",
       "      <td>2013-01-03</td>\n",
       "      <td>6.9</td>\n",
       "      <td>1.0</td>\n",
       "      <td>快晴</td>\n",
       "      <td>晴</td>\n",
       "      <td>1</td>\n",
       "      <td>1</td>\n",
       "      <td>1</td>\n",
       "      <td>0</td>\n",
       "      <td>0</td>\n",
       "      <td>0</td>\n",
       "      <td>0</td>\n",
       "      <td>0</td>\n",
       "      <td>0</td>\n",
       "      <td>0</td>\n",
       "      <td>0</td>\n",
       "      <td>0</td>\n",
       "      <td>1</td>\n",
       "      <td>4</td>\n",
       "      <td>1</td>\n",
       "    </tr>\n",
       "    <tr>\n",
       "      <td>4</td>\n",
       "      <td>2013-01-04</td>\n",
       "      <td>4.8</td>\n",
       "      <td>0.2</td>\n",
       "      <td>曇</td>\n",
       "      <td>薄曇後晴</td>\n",
       "      <td>0</td>\n",
       "      <td>1</td>\n",
       "      <td>1</td>\n",
       "      <td>1</td>\n",
       "      <td>1</td>\n",
       "      <td>1</td>\n",
       "      <td>0</td>\n",
       "      <td>0</td>\n",
       "      <td>0</td>\n",
       "      <td>0</td>\n",
       "      <td>0</td>\n",
       "      <td>0</td>\n",
       "      <td>1</td>\n",
       "      <td>5</td>\n",
       "      <td>1</td>\n",
       "    </tr>\n",
       "    <tr>\n",
       "      <td>...</td>\n",
       "      <td>...</td>\n",
       "      <td>...</td>\n",
       "      <td>...</td>\n",
       "      <td>...</td>\n",
       "      <td>...</td>\n",
       "      <td>...</td>\n",
       "      <td>...</td>\n",
       "      <td>...</td>\n",
       "      <td>...</td>\n",
       "      <td>...</td>\n",
       "      <td>...</td>\n",
       "      <td>...</td>\n",
       "      <td>...</td>\n",
       "      <td>...</td>\n",
       "      <td>...</td>\n",
       "      <td>...</td>\n",
       "      <td>...</td>\n",
       "      <td>...</td>\n",
       "      <td>...</td>\n",
       "      <td>...</td>\n",
       "    </tr>\n",
       "    <tr>\n",
       "      <td>2399</td>\n",
       "      <td>2019-07-27</td>\n",
       "      <td>32.3</td>\n",
       "      <td>25.0</td>\n",
       "      <td>晴時々曇一時雨</td>\n",
       "      <td>晴時々薄曇</td>\n",
       "      <td>1</td>\n",
       "      <td>1</td>\n",
       "      <td>1</td>\n",
       "      <td>1</td>\n",
       "      <td>1</td>\n",
       "      <td>1</td>\n",
       "      <td>1</td>\n",
       "      <td>0</td>\n",
       "      <td>1</td>\n",
       "      <td>0</td>\n",
       "      <td>0</td>\n",
       "      <td>0</td>\n",
       "      <td>7</td>\n",
       "      <td>209</td>\n",
       "      <td>30</td>\n",
       "    </tr>\n",
       "    <tr>\n",
       "      <td>2400</td>\n",
       "      <td>2019-07-28</td>\n",
       "      <td>33.7</td>\n",
       "      <td>25.3</td>\n",
       "      <td>晴一時曇</td>\n",
       "      <td>曇時々晴</td>\n",
       "      <td>1</td>\n",
       "      <td>1</td>\n",
       "      <td>1</td>\n",
       "      <td>1</td>\n",
       "      <td>1</td>\n",
       "      <td>1</td>\n",
       "      <td>0</td>\n",
       "      <td>0</td>\n",
       "      <td>0</td>\n",
       "      <td>0</td>\n",
       "      <td>0</td>\n",
       "      <td>0</td>\n",
       "      <td>7</td>\n",
       "      <td>210</td>\n",
       "      <td>31</td>\n",
       "    </tr>\n",
       "    <tr>\n",
       "      <td>2401</td>\n",
       "      <td>2019-07-29</td>\n",
       "      <td>33.6</td>\n",
       "      <td>26.0</td>\n",
       "      <td>晴後一時薄曇</td>\n",
       "      <td>晴一時薄曇</td>\n",
       "      <td>1</td>\n",
       "      <td>1</td>\n",
       "      <td>1</td>\n",
       "      <td>1</td>\n",
       "      <td>1</td>\n",
       "      <td>1</td>\n",
       "      <td>0</td>\n",
       "      <td>0</td>\n",
       "      <td>0</td>\n",
       "      <td>0</td>\n",
       "      <td>0</td>\n",
       "      <td>0</td>\n",
       "      <td>7</td>\n",
       "      <td>211</td>\n",
       "      <td>31</td>\n",
       "    </tr>\n",
       "    <tr>\n",
       "      <td>2402</td>\n",
       "      <td>2019-07-30</td>\n",
       "      <td>34.6</td>\n",
       "      <td>26.5</td>\n",
       "      <td>晴後薄曇</td>\n",
       "      <td>晴時々薄曇</td>\n",
       "      <td>1</td>\n",
       "      <td>1</td>\n",
       "      <td>1</td>\n",
       "      <td>1</td>\n",
       "      <td>1</td>\n",
       "      <td>1</td>\n",
       "      <td>0</td>\n",
       "      <td>0</td>\n",
       "      <td>0</td>\n",
       "      <td>0</td>\n",
       "      <td>0</td>\n",
       "      <td>0</td>\n",
       "      <td>7</td>\n",
       "      <td>212</td>\n",
       "      <td>31</td>\n",
       "    </tr>\n",
       "    <tr>\n",
       "      <td>2403</td>\n",
       "      <td>2019-07-31</td>\n",
       "      <td>35.0</td>\n",
       "      <td>26.3</td>\n",
       "      <td>晴</td>\n",
       "      <td>晴</td>\n",
       "      <td>1</td>\n",
       "      <td>1</td>\n",
       "      <td>1</td>\n",
       "      <td>0</td>\n",
       "      <td>0</td>\n",
       "      <td>0</td>\n",
       "      <td>0</td>\n",
       "      <td>0</td>\n",
       "      <td>0</td>\n",
       "      <td>0</td>\n",
       "      <td>0</td>\n",
       "      <td>0</td>\n",
       "      <td>8</td>\n",
       "      <td>213</td>\n",
       "      <td>31</td>\n",
       "    </tr>\n",
       "  </tbody>\n",
       "</table>\n",
       "<p>2404 rows × 20 columns</p>\n",
       "</div>"
      ],
      "text/plain": [
       "           date  high_temp  low_temp weather_am weather_pm  weather_am_hare  \\\n",
       "0    2012-12-31        9.6       3.0          晴         快晴                1   \n",
       "1    2013-01-01       14.4       4.2         快晴         快晴                1   \n",
       "2    2013-01-02        9.9       1.8       曇時々晴          晴                1   \n",
       "3    2013-01-03        6.9       1.0         快晴          晴                1   \n",
       "4    2013-01-04        4.8       0.2          曇       薄曇後晴                0   \n",
       "...         ...        ...       ...        ...        ...              ...   \n",
       "2399 2019-07-27       32.3      25.0    晴時々曇一時雨      晴時々薄曇                1   \n",
       "2400 2019-07-28       33.7      25.3       晴一時曇       曇時々晴                1   \n",
       "2401 2019-07-29       33.6      26.0     晴後一時薄曇      晴一時薄曇                1   \n",
       "2402 2019-07-30       34.6      26.5       晴後薄曇      晴時々薄曇                1   \n",
       "2403 2019-07-31       35.0      26.3          晴          晴                1   \n",
       "\n",
       "      weather_pm_hare  weather_hare  weather_am_kumori  weather_pm_kumori  \\\n",
       "0                   1             1                  0                  0   \n",
       "1                   1             1                  0                  0   \n",
       "2                   1             1                  1                  0   \n",
       "3                   1             1                  0                  0   \n",
       "4                   1             1                  1                  1   \n",
       "...               ...           ...                ...                ...   \n",
       "2399                1             1                  1                  1   \n",
       "2400                1             1                  1                  1   \n",
       "2401                1             1                  1                  1   \n",
       "2402                1             1                  1                  1   \n",
       "2403                1             1                  0                  0   \n",
       "\n",
       "      weather_kumori  weather_am_ame  weather_pm_ame  weather_ame  \\\n",
       "0                  0               0               0            0   \n",
       "1                  0               0               0            0   \n",
       "2                  1               0               0            0   \n",
       "3                  0               0               0            0   \n",
       "4                  1               0               0            0   \n",
       "...              ...             ...             ...          ...   \n",
       "2399               1               1               0            1   \n",
       "2400               1               0               0            0   \n",
       "2401               1               0               0            0   \n",
       "2402               1               0               0            0   \n",
       "2403               0               0               0            0   \n",
       "\n",
       "      weather_am_yuki  weather_pm_yuki  weather_yuki  month  dayofyear  week  \n",
       "0                   0                0             0      1          1     1  \n",
       "1                   0                0             0      1          2     1  \n",
       "2                   0                0             0      1          3     1  \n",
       "3                   0                0             0      1          4     1  \n",
       "4                   0                0             0      1          5     1  \n",
       "...               ...              ...           ...    ...        ...   ...  \n",
       "2399                0                0             0      7        209    30  \n",
       "2400                0                0             0      7        210    31  \n",
       "2401                0                0             0      7        211    31  \n",
       "2402                0                0             0      7        212    31  \n",
       "2403                0                0             0      8        213    31  \n",
       "\n",
       "[2404 rows x 20 columns]"
      ]
     },
     "execution_count": 33,
     "metadata": {},
     "output_type": "execute_result"
    }
   ],
   "source": [
    "# 目的変数を作成する\n",
    "df_tomorrow = df.copy()\n",
    "df_tomorrow[\"date\"] = df[\"date\"] - datetime.timedelta(1)\n",
    "df_tomorrow"
   ]
  },
  {
   "cell_type": "code",
   "execution_count": 34,
   "metadata": {},
   "outputs": [],
   "source": [
    "from sklearn.linear_model import LinearRegression"
   ]
  },
  {
   "cell_type": "code",
   "execution_count": 35,
   "metadata": {},
   "outputs": [],
   "source": [
    "def set_target(target_col):\n",
    "    df_tomorrow[\"target\"] = df_tomorrow[target_col]\n",
    "    return pd.merge(df, df_tomorrow.loc[:, [\"date\", \"target\"]], how=\"left\", on=\"date\")\n",
    "df_dm = set_target(\"low_temp\")"
   ]
  },
  {
   "cell_type": "code",
   "execution_count": 36,
   "metadata": {},
   "outputs": [
    {
     "data": {
      "text/html": [
       "<div>\n",
       "<style scoped>\n",
       "    .dataframe tbody tr th:only-of-type {\n",
       "        vertical-align: middle;\n",
       "    }\n",
       "\n",
       "    .dataframe tbody tr th {\n",
       "        vertical-align: top;\n",
       "    }\n",
       "\n",
       "    .dataframe thead th {\n",
       "        text-align: right;\n",
       "    }\n",
       "</style>\n",
       "<table border=\"1\" class=\"dataframe\">\n",
       "  <thead>\n",
       "    <tr style=\"text-align: right;\">\n",
       "      <th></th>\n",
       "      <th>date</th>\n",
       "      <th>target</th>\n",
       "    </tr>\n",
       "  </thead>\n",
       "  <tbody>\n",
       "    <tr>\n",
       "      <td>0</td>\n",
       "      <td>2012-12-31</td>\n",
       "      <td>3.0</td>\n",
       "    </tr>\n",
       "    <tr>\n",
       "      <td>1</td>\n",
       "      <td>2013-01-01</td>\n",
       "      <td>4.2</td>\n",
       "    </tr>\n",
       "    <tr>\n",
       "      <td>2</td>\n",
       "      <td>2013-01-02</td>\n",
       "      <td>1.8</td>\n",
       "    </tr>\n",
       "    <tr>\n",
       "      <td>3</td>\n",
       "      <td>2013-01-03</td>\n",
       "      <td>1.0</td>\n",
       "    </tr>\n",
       "    <tr>\n",
       "      <td>4</td>\n",
       "      <td>2013-01-04</td>\n",
       "      <td>0.2</td>\n",
       "    </tr>\n",
       "    <tr>\n",
       "      <td>...</td>\n",
       "      <td>...</td>\n",
       "      <td>...</td>\n",
       "    </tr>\n",
       "    <tr>\n",
       "      <td>2399</td>\n",
       "      <td>2019-07-27</td>\n",
       "      <td>25.0</td>\n",
       "    </tr>\n",
       "    <tr>\n",
       "      <td>2400</td>\n",
       "      <td>2019-07-28</td>\n",
       "      <td>25.3</td>\n",
       "    </tr>\n",
       "    <tr>\n",
       "      <td>2401</td>\n",
       "      <td>2019-07-29</td>\n",
       "      <td>26.0</td>\n",
       "    </tr>\n",
       "    <tr>\n",
       "      <td>2402</td>\n",
       "      <td>2019-07-30</td>\n",
       "      <td>26.5</td>\n",
       "    </tr>\n",
       "    <tr>\n",
       "      <td>2403</td>\n",
       "      <td>2019-07-31</td>\n",
       "      <td>26.3</td>\n",
       "    </tr>\n",
       "  </tbody>\n",
       "</table>\n",
       "<p>2404 rows × 2 columns</p>\n",
       "</div>"
      ],
      "text/plain": [
       "           date  target\n",
       "0    2012-12-31     3.0\n",
       "1    2013-01-01     4.2\n",
       "2    2013-01-02     1.8\n",
       "3    2013-01-03     1.0\n",
       "4    2013-01-04     0.2\n",
       "...         ...     ...\n",
       "2399 2019-07-27    25.0\n",
       "2400 2019-07-28    25.3\n",
       "2401 2019-07-29    26.0\n",
       "2402 2019-07-30    26.5\n",
       "2403 2019-07-31    26.3\n",
       "\n",
       "[2404 rows x 2 columns]"
      ]
     },
     "execution_count": 36,
     "metadata": {},
     "output_type": "execute_result"
    }
   ],
   "source": [
    "df_tomorrow.loc[:, [\"date\", \"target\"]]"
   ]
  },
  {
   "cell_type": "code",
   "execution_count": 37,
   "metadata": {},
   "outputs": [
    {
     "data": {
      "text/html": [
       "<div>\n",
       "<style scoped>\n",
       "    .dataframe tbody tr th:only-of-type {\n",
       "        vertical-align: middle;\n",
       "    }\n",
       "\n",
       "    .dataframe tbody tr th {\n",
       "        vertical-align: top;\n",
       "    }\n",
       "\n",
       "    .dataframe thead th {\n",
       "        text-align: right;\n",
       "    }\n",
       "</style>\n",
       "<table border=\"1\" class=\"dataframe\">\n",
       "  <thead>\n",
       "    <tr style=\"text-align: right;\">\n",
       "      <th></th>\n",
       "      <th>date</th>\n",
       "      <th>high_temp</th>\n",
       "      <th>low_temp</th>\n",
       "      <th>weather_am</th>\n",
       "      <th>weather_pm</th>\n",
       "      <th>weather_am_hare</th>\n",
       "      <th>weather_pm_hare</th>\n",
       "      <th>weather_hare</th>\n",
       "      <th>weather_am_kumori</th>\n",
       "      <th>weather_pm_kumori</th>\n",
       "      <th>...</th>\n",
       "      <th>weather_am_ame</th>\n",
       "      <th>weather_pm_ame</th>\n",
       "      <th>weather_ame</th>\n",
       "      <th>weather_am_yuki</th>\n",
       "      <th>weather_pm_yuki</th>\n",
       "      <th>weather_yuki</th>\n",
       "      <th>month</th>\n",
       "      <th>dayofyear</th>\n",
       "      <th>week</th>\n",
       "      <th>target</th>\n",
       "    </tr>\n",
       "  </thead>\n",
       "  <tbody>\n",
       "    <tr>\n",
       "      <td>2399</td>\n",
       "      <td>2019-07-28</td>\n",
       "      <td>32.3</td>\n",
       "      <td>25.0</td>\n",
       "      <td>晴時々曇一時雨</td>\n",
       "      <td>晴時々薄曇</td>\n",
       "      <td>1</td>\n",
       "      <td>1</td>\n",
       "      <td>1</td>\n",
       "      <td>1</td>\n",
       "      <td>1</td>\n",
       "      <td>...</td>\n",
       "      <td>1</td>\n",
       "      <td>0</td>\n",
       "      <td>1</td>\n",
       "      <td>0</td>\n",
       "      <td>0</td>\n",
       "      <td>0</td>\n",
       "      <td>7</td>\n",
       "      <td>209</td>\n",
       "      <td>30</td>\n",
       "      <td>25.3</td>\n",
       "    </tr>\n",
       "    <tr>\n",
       "      <td>2400</td>\n",
       "      <td>2019-07-29</td>\n",
       "      <td>33.7</td>\n",
       "      <td>25.3</td>\n",
       "      <td>晴一時曇</td>\n",
       "      <td>曇時々晴</td>\n",
       "      <td>1</td>\n",
       "      <td>1</td>\n",
       "      <td>1</td>\n",
       "      <td>1</td>\n",
       "      <td>1</td>\n",
       "      <td>...</td>\n",
       "      <td>0</td>\n",
       "      <td>0</td>\n",
       "      <td>0</td>\n",
       "      <td>0</td>\n",
       "      <td>0</td>\n",
       "      <td>0</td>\n",
       "      <td>7</td>\n",
       "      <td>210</td>\n",
       "      <td>31</td>\n",
       "      <td>26.0</td>\n",
       "    </tr>\n",
       "    <tr>\n",
       "      <td>2401</td>\n",
       "      <td>2019-07-30</td>\n",
       "      <td>33.6</td>\n",
       "      <td>26.0</td>\n",
       "      <td>晴後一時薄曇</td>\n",
       "      <td>晴一時薄曇</td>\n",
       "      <td>1</td>\n",
       "      <td>1</td>\n",
       "      <td>1</td>\n",
       "      <td>1</td>\n",
       "      <td>1</td>\n",
       "      <td>...</td>\n",
       "      <td>0</td>\n",
       "      <td>0</td>\n",
       "      <td>0</td>\n",
       "      <td>0</td>\n",
       "      <td>0</td>\n",
       "      <td>0</td>\n",
       "      <td>7</td>\n",
       "      <td>211</td>\n",
       "      <td>31</td>\n",
       "      <td>26.5</td>\n",
       "    </tr>\n",
       "    <tr>\n",
       "      <td>2402</td>\n",
       "      <td>2019-07-31</td>\n",
       "      <td>34.6</td>\n",
       "      <td>26.5</td>\n",
       "      <td>晴後薄曇</td>\n",
       "      <td>晴時々薄曇</td>\n",
       "      <td>1</td>\n",
       "      <td>1</td>\n",
       "      <td>1</td>\n",
       "      <td>1</td>\n",
       "      <td>1</td>\n",
       "      <td>...</td>\n",
       "      <td>0</td>\n",
       "      <td>0</td>\n",
       "      <td>0</td>\n",
       "      <td>0</td>\n",
       "      <td>0</td>\n",
       "      <td>0</td>\n",
       "      <td>7</td>\n",
       "      <td>212</td>\n",
       "      <td>31</td>\n",
       "      <td>26.3</td>\n",
       "    </tr>\n",
       "    <tr>\n",
       "      <td>2403</td>\n",
       "      <td>2019-08-01</td>\n",
       "      <td>35.0</td>\n",
       "      <td>26.3</td>\n",
       "      <td>晴</td>\n",
       "      <td>晴</td>\n",
       "      <td>1</td>\n",
       "      <td>1</td>\n",
       "      <td>1</td>\n",
       "      <td>0</td>\n",
       "      <td>0</td>\n",
       "      <td>...</td>\n",
       "      <td>0</td>\n",
       "      <td>0</td>\n",
       "      <td>0</td>\n",
       "      <td>0</td>\n",
       "      <td>0</td>\n",
       "      <td>0</td>\n",
       "      <td>8</td>\n",
       "      <td>213</td>\n",
       "      <td>31</td>\n",
       "      <td>NaN</td>\n",
       "    </tr>\n",
       "  </tbody>\n",
       "</table>\n",
       "<p>5 rows × 21 columns</p>\n",
       "</div>"
      ],
      "text/plain": [
       "           date  high_temp  low_temp weather_am weather_pm  weather_am_hare  \\\n",
       "2399 2019-07-28       32.3      25.0    晴時々曇一時雨      晴時々薄曇                1   \n",
       "2400 2019-07-29       33.7      25.3       晴一時曇       曇時々晴                1   \n",
       "2401 2019-07-30       33.6      26.0     晴後一時薄曇      晴一時薄曇                1   \n",
       "2402 2019-07-31       34.6      26.5       晴後薄曇      晴時々薄曇                1   \n",
       "2403 2019-08-01       35.0      26.3          晴          晴                1   \n",
       "\n",
       "      weather_pm_hare  weather_hare  weather_am_kumori  weather_pm_kumori  \\\n",
       "2399                1             1                  1                  1   \n",
       "2400                1             1                  1                  1   \n",
       "2401                1             1                  1                  1   \n",
       "2402                1             1                  1                  1   \n",
       "2403                1             1                  0                  0   \n",
       "\n",
       "      ...  weather_am_ame  weather_pm_ame  weather_ame  weather_am_yuki  \\\n",
       "2399  ...               1               0            1                0   \n",
       "2400  ...               0               0            0                0   \n",
       "2401  ...               0               0            0                0   \n",
       "2402  ...               0               0            0                0   \n",
       "2403  ...               0               0            0                0   \n",
       "\n",
       "      weather_pm_yuki  weather_yuki  month  dayofyear  week  target  \n",
       "2399                0             0      7        209    30    25.3  \n",
       "2400                0             0      7        210    31    26.0  \n",
       "2401                0             0      7        211    31    26.5  \n",
       "2402                0             0      7        212    31    26.3  \n",
       "2403                0             0      8        213    31     NaN  \n",
       "\n",
       "[5 rows x 21 columns]"
      ]
     },
     "execution_count": 37,
     "metadata": {},
     "output_type": "execute_result"
    }
   ],
   "source": [
    "df_dm.tail()"
   ]
  },
  {
   "cell_type": "code",
   "execution_count": 38,
   "metadata": {},
   "outputs": [],
   "source": [
    "X = df_dm[~df_dm[\"target\"].isna()].loc[:,                           \n",
    "        [\"date\",\n",
    "        \"high_temp\",\n",
    "         \"low_temp\",\n",
    "         \"weather_hare\",\n",
    "         \"weather_kumori\",\n",
    "         \"weather_ame\",\n",
    "         \"weather_yuki\",\n",
    "         \"month\",\n",
    "         \"dayofyear\",\n",
    "         \"week\",\n",
    "         \"month\"\n",
    "        ]]\n",
    "\n",
    "y = df_dm[~df_dm[\"target\"].isna()][\"target\"]"
   ]
  },
  {
   "cell_type": "markdown",
   "metadata": {},
   "source": [
    "## 当日の最低気温のみで予測した場合"
   ]
  },
  {
   "cell_type": "code",
   "execution_count": 39,
   "metadata": {
    "scrolled": true
   },
   "outputs": [
    {
     "data": {
      "text/html": [
       "<div>\n",
       "<style scoped>\n",
       "    .dataframe tbody tr th:only-of-type {\n",
       "        vertical-align: middle;\n",
       "    }\n",
       "\n",
       "    .dataframe tbody tr th {\n",
       "        vertical-align: top;\n",
       "    }\n",
       "\n",
       "    .dataframe thead th {\n",
       "        text-align: right;\n",
       "    }\n",
       "</style>\n",
       "<table border=\"1\" class=\"dataframe\">\n",
       "  <thead>\n",
       "    <tr style=\"text-align: right;\">\n",
       "      <th></th>\n",
       "      <th>date</th>\n",
       "      <th>high_temp</th>\n",
       "      <th>low_temp</th>\n",
       "      <th>weather_hare</th>\n",
       "      <th>weather_kumori</th>\n",
       "      <th>weather_ame</th>\n",
       "      <th>weather_yuki</th>\n",
       "      <th>month</th>\n",
       "      <th>dayofyear</th>\n",
       "      <th>week</th>\n",
       "      <th>month</th>\n",
       "    </tr>\n",
       "  </thead>\n",
       "  <tbody>\n",
       "    <tr>\n",
       "      <td>0</td>\n",
       "      <td>2013-01-01</td>\n",
       "      <td>9.6</td>\n",
       "      <td>3.0</td>\n",
       "      <td>1</td>\n",
       "      <td>0</td>\n",
       "      <td>0</td>\n",
       "      <td>0</td>\n",
       "      <td>1</td>\n",
       "      <td>1</td>\n",
       "      <td>1</td>\n",
       "      <td>1</td>\n",
       "    </tr>\n",
       "    <tr>\n",
       "      <td>1</td>\n",
       "      <td>2013-01-02</td>\n",
       "      <td>14.4</td>\n",
       "      <td>4.2</td>\n",
       "      <td>1</td>\n",
       "      <td>0</td>\n",
       "      <td>0</td>\n",
       "      <td>0</td>\n",
       "      <td>1</td>\n",
       "      <td>2</td>\n",
       "      <td>1</td>\n",
       "      <td>1</td>\n",
       "    </tr>\n",
       "    <tr>\n",
       "      <td>2</td>\n",
       "      <td>2013-01-03</td>\n",
       "      <td>9.9</td>\n",
       "      <td>1.8</td>\n",
       "      <td>1</td>\n",
       "      <td>1</td>\n",
       "      <td>0</td>\n",
       "      <td>0</td>\n",
       "      <td>1</td>\n",
       "      <td>3</td>\n",
       "      <td>1</td>\n",
       "      <td>1</td>\n",
       "    </tr>\n",
       "    <tr>\n",
       "      <td>3</td>\n",
       "      <td>2013-01-04</td>\n",
       "      <td>6.9</td>\n",
       "      <td>1.0</td>\n",
       "      <td>1</td>\n",
       "      <td>0</td>\n",
       "      <td>0</td>\n",
       "      <td>0</td>\n",
       "      <td>1</td>\n",
       "      <td>4</td>\n",
       "      <td>1</td>\n",
       "      <td>1</td>\n",
       "    </tr>\n",
       "    <tr>\n",
       "      <td>4</td>\n",
       "      <td>2013-01-05</td>\n",
       "      <td>4.8</td>\n",
       "      <td>0.2</td>\n",
       "      <td>1</td>\n",
       "      <td>1</td>\n",
       "      <td>0</td>\n",
       "      <td>0</td>\n",
       "      <td>1</td>\n",
       "      <td>5</td>\n",
       "      <td>1</td>\n",
       "      <td>1</td>\n",
       "    </tr>\n",
       "  </tbody>\n",
       "</table>\n",
       "</div>"
      ],
      "text/plain": [
       "        date  high_temp  low_temp  weather_hare  weather_kumori  weather_ame  \\\n",
       "0 2013-01-01        9.6       3.0             1               0            0   \n",
       "1 2013-01-02       14.4       4.2             1               0            0   \n",
       "2 2013-01-03        9.9       1.8             1               1            0   \n",
       "3 2013-01-04        6.9       1.0             1               0            0   \n",
       "4 2013-01-05        4.8       0.2             1               1            0   \n",
       "\n",
       "   weather_yuki  month  dayofyear  week  month  \n",
       "0             0      1          1     1      1  \n",
       "1             0      1          2     1      1  \n",
       "2             0      1          3     1      1  \n",
       "3             0      1          4     1      1  \n",
       "4             0      1          5     1      1  "
      ]
     },
     "execution_count": 39,
     "metadata": {},
     "output_type": "execute_result"
    }
   ],
   "source": [
    "X.head()"
   ]
  },
  {
   "cell_type": "code",
   "execution_count": 40,
   "metadata": {
    "scrolled": true
   },
   "outputs": [
    {
     "data": {
      "text/plain": [
       "0        4.2\n",
       "1        1.8\n",
       "2        1.0\n",
       "3        0.2\n",
       "4       -1.4\n",
       "        ... \n",
       "2398    25.0\n",
       "2399    25.3\n",
       "2400    26.0\n",
       "2401    26.5\n",
       "2402    26.3\n",
       "Name: target, Length: 2403, dtype: float64"
      ]
     },
     "execution_count": 40,
     "metadata": {},
     "output_type": "execute_result"
    }
   ],
   "source": [
    "y"
   ]
  },
  {
   "cell_type": "code",
   "execution_count": 41,
   "metadata": {},
   "outputs": [
    {
     "data": {
      "text/plain": [
       "0        True\n",
       "1        True\n",
       "2        True\n",
       "3        True\n",
       "4        True\n",
       "        ...  \n",
       "2398    False\n",
       "2399    False\n",
       "2400    False\n",
       "2401    False\n",
       "2402    False\n",
       "Name: date, Length: 2403, dtype: bool"
      ]
     },
     "execution_count": 41,
     "metadata": {},
     "output_type": "execute_result"
    }
   ],
   "source": [
    "train_idx = (X[\"date\"] < \"2018-01-01\")\n",
    "val_idx    = (X[\"date\"] >= \"2018-01-01\")  & (X[\"date\"] < \"2019-01-01\")\n",
    "test_idx  = (X[\"date\"] >= \"2019-01-01\")\n",
    "train_idx"
   ]
  },
  {
   "cell_type": "code",
   "execution_count": 42,
   "metadata": {},
   "outputs": [],
   "source": [
    "X_train = X[train_idx].drop(columns=\"date\")\n",
    "y_train = y[train_idx]\n",
    "X_val = X[val_idx].drop(columns=\"date\")\n",
    "y_val = y[val_idx]"
   ]
  },
  {
   "cell_type": "code",
   "execution_count": 43,
   "metadata": {},
   "outputs": [
    {
     "data": {
      "text/plain": [
       "(2403, 11)"
      ]
     },
     "execution_count": 43,
     "metadata": {},
     "output_type": "execute_result"
    }
   ],
   "source": [
    "X.shape"
   ]
  },
  {
   "cell_type": "code",
   "execution_count": 44,
   "metadata": {},
   "outputs": [
    {
     "data": {
      "text/plain": [
       "(1826, 10)"
      ]
     },
     "execution_count": 44,
     "metadata": {},
     "output_type": "execute_result"
    }
   ],
   "source": [
    "X_train.shape"
   ]
  },
  {
   "cell_type": "code",
   "execution_count": 45,
   "metadata": {
    "scrolled": true
   },
   "outputs": [
    {
     "data": {
      "text/plain": [
       "<matplotlib.axes._subplots.AxesSubplot at 0x1a1a43ca90>"
      ]
     },
     "execution_count": 45,
     "metadata": {},
     "output_type": "execute_result"
    },
    {
     "data": {
      "image/png": "[encoded data removed]",
      "text/plain": [
       "<Figure size 432x288 with 1 Axes>"
      ]
     },
     "metadata": {
      "needs_background": "light"
     },
     "output_type": "display_data"
    }
   ],
   "source": [
    "sns.scatterplot(y_val.values, X_val[\"low_temp\"])"
   ]
  },
  {
   "cell_type": "code",
   "execution_count": 46,
   "metadata": {},
   "outputs": [
    {
     "data": {
      "text/plain": [
       "3.9272054794520543"
      ]
     },
     "execution_count": 46,
     "metadata": {},
     "output_type": "execute_result"
    }
   ],
   "source": [
    "from sklearn.metrics import mean_squared_error\n",
    "mean_squared_error(y_val.values, X_val[\"low_temp\"])"
   ]
  },
  {
   "cell_type": "markdown",
   "metadata": {},
   "source": [
    "## 最低気温の予測"
   ]
  },
  {
   "cell_type": "code",
   "execution_count": 47,
   "metadata": {},
   "outputs": [
    {
     "name": "stdout",
     "output_type": "stream",
     "text": [
      "train_score 0.9507824492665277\n",
      "val_score 0.9507104868340592\n"
     ]
    }
   ],
   "source": [
    "# https://scikit-learn.org/stable/modules/generated/sklearn.linear_model.LinearRegression.html\n",
    "reg = LinearRegression().fit(X_train, y_train)\n",
    "print(\"train_score\", reg.score(X_train, y_train))\n",
    "print(\"val_score\", reg.score(X_val, y_val))"
   ]
  },
  {
   "cell_type": "code",
   "execution_count": 48,
   "metadata": {},
   "outputs": [
    {
     "data": {
      "text/plain": [
       "<matplotlib.axes._subplots.AxesSubplot at 0x1a1a4ecc50>"
      ]
     },
     "execution_count": 48,
     "metadata": {},
     "output_type": "execute_result"
    },
    {
     "data": {
      "image/png": "[encoded data removed]",
      "text/plain": [
       "<Figure size 432x288 with 1 Axes>"
      ]
     },
     "metadata": {
      "needs_background": "light"
     },
     "output_type": "display_data"
    }
   ],
   "source": [
    "plt.xlabel(\"実測_最低気温\")\n",
    "plt.ylabel(\"予測_最低気温\")\n",
    "sns.scatterplot(y_val.values, reg.predict(X_val))"
   ]
  },
  {
   "cell_type": "code",
   "execution_count": 49,
   "metadata": {},
   "outputs": [
    {
     "data": {
      "text/plain": [
       "3.5792606232144064"
      ]
     },
     "execution_count": 49,
     "metadata": {},
     "output_type": "execute_result"
    }
   ],
   "source": [
    "from sklearn.metrics import mean_squared_error\n",
    "mean_squared_error(y_val.values, reg.predict(X_val))"
   ]
  },
  {
   "cell_type": "markdown",
   "metadata": {},
   "source": [
    "## 雨の予測"
   ]
  },
  {
   "cell_type": "code",
   "execution_count": 50,
   "metadata": {},
   "outputs": [],
   "source": [
    "from sklearn.linear_model import LogisticRegression"
   ]
  },
  {
   "cell_type": "code",
   "execution_count": 51,
   "metadata": {},
   "outputs": [],
   "source": [
    "df_dm = set_target(\"weather_ame\")"
   ]
  },
  {
   "cell_type": "code",
   "execution_count": 52,
   "metadata": {},
   "outputs": [
    {
     "data": {
      "text/html": [
       "<div>\n",
       "<style scoped>\n",
       "    .dataframe tbody tr th:only-of-type {\n",
       "        vertical-align: middle;\n",
       "    }\n",
       "\n",
       "    .dataframe tbody tr th {\n",
       "        vertical-align: top;\n",
       "    }\n",
       "\n",
       "    .dataframe thead th {\n",
       "        text-align: right;\n",
       "    }\n",
       "</style>\n",
       "<table border=\"1\" class=\"dataframe\">\n",
       "  <thead>\n",
       "    <tr style=\"text-align: right;\">\n",
       "      <th></th>\n",
       "      <th>date</th>\n",
       "      <th>high_temp</th>\n",
       "      <th>low_temp</th>\n",
       "      <th>weather_am</th>\n",
       "      <th>weather_pm</th>\n",
       "      <th>weather_am_hare</th>\n",
       "      <th>weather_pm_hare</th>\n",
       "      <th>weather_hare</th>\n",
       "      <th>weather_am_kumori</th>\n",
       "      <th>weather_pm_kumori</th>\n",
       "      <th>...</th>\n",
       "      <th>weather_am_ame</th>\n",
       "      <th>weather_pm_ame</th>\n",
       "      <th>weather_ame</th>\n",
       "      <th>weather_am_yuki</th>\n",
       "      <th>weather_pm_yuki</th>\n",
       "      <th>weather_yuki</th>\n",
       "      <th>month</th>\n",
       "      <th>dayofyear</th>\n",
       "      <th>week</th>\n",
       "      <th>target</th>\n",
       "    </tr>\n",
       "  </thead>\n",
       "  <tbody>\n",
       "    <tr>\n",
       "      <td>0</td>\n",
       "      <td>2013-01-01</td>\n",
       "      <td>9.6</td>\n",
       "      <td>3.0</td>\n",
       "      <td>晴</td>\n",
       "      <td>快晴</td>\n",
       "      <td>1</td>\n",
       "      <td>1</td>\n",
       "      <td>1</td>\n",
       "      <td>0</td>\n",
       "      <td>0</td>\n",
       "      <td>...</td>\n",
       "      <td>0</td>\n",
       "      <td>0</td>\n",
       "      <td>0</td>\n",
       "      <td>0</td>\n",
       "      <td>0</td>\n",
       "      <td>0</td>\n",
       "      <td>1</td>\n",
       "      <td>1</td>\n",
       "      <td>1</td>\n",
       "      <td>0.0</td>\n",
       "    </tr>\n",
       "    <tr>\n",
       "      <td>1</td>\n",
       "      <td>2013-01-02</td>\n",
       "      <td>14.4</td>\n",
       "      <td>4.2</td>\n",
       "      <td>快晴</td>\n",
       "      <td>快晴</td>\n",
       "      <td>1</td>\n",
       "      <td>1</td>\n",
       "      <td>1</td>\n",
       "      <td>0</td>\n",
       "      <td>0</td>\n",
       "      <td>...</td>\n",
       "      <td>0</td>\n",
       "      <td>0</td>\n",
       "      <td>0</td>\n",
       "      <td>0</td>\n",
       "      <td>0</td>\n",
       "      <td>0</td>\n",
       "      <td>1</td>\n",
       "      <td>2</td>\n",
       "      <td>1</td>\n",
       "      <td>0.0</td>\n",
       "    </tr>\n",
       "    <tr>\n",
       "      <td>2</td>\n",
       "      <td>2013-01-03</td>\n",
       "      <td>9.9</td>\n",
       "      <td>1.8</td>\n",
       "      <td>曇時々晴</td>\n",
       "      <td>晴</td>\n",
       "      <td>1</td>\n",
       "      <td>1</td>\n",
       "      <td>1</td>\n",
       "      <td>1</td>\n",
       "      <td>0</td>\n",
       "      <td>...</td>\n",
       "      <td>0</td>\n",
       "      <td>0</td>\n",
       "      <td>0</td>\n",
       "      <td>0</td>\n",
       "      <td>0</td>\n",
       "      <td>0</td>\n",
       "      <td>1</td>\n",
       "      <td>3</td>\n",
       "      <td>1</td>\n",
       "      <td>0.0</td>\n",
       "    </tr>\n",
       "    <tr>\n",
       "      <td>3</td>\n",
       "      <td>2013-01-04</td>\n",
       "      <td>6.9</td>\n",
       "      <td>1.0</td>\n",
       "      <td>快晴</td>\n",
       "      <td>晴</td>\n",
       "      <td>1</td>\n",
       "      <td>1</td>\n",
       "      <td>1</td>\n",
       "      <td>0</td>\n",
       "      <td>0</td>\n",
       "      <td>...</td>\n",
       "      <td>0</td>\n",
       "      <td>0</td>\n",
       "      <td>0</td>\n",
       "      <td>0</td>\n",
       "      <td>0</td>\n",
       "      <td>0</td>\n",
       "      <td>1</td>\n",
       "      <td>4</td>\n",
       "      <td>1</td>\n",
       "      <td>0.0</td>\n",
       "    </tr>\n",
       "    <tr>\n",
       "      <td>4</td>\n",
       "      <td>2013-01-05</td>\n",
       "      <td>4.8</td>\n",
       "      <td>0.2</td>\n",
       "      <td>曇</td>\n",
       "      <td>薄曇後晴</td>\n",
       "      <td>0</td>\n",
       "      <td>1</td>\n",
       "      <td>1</td>\n",
       "      <td>1</td>\n",
       "      <td>1</td>\n",
       "      <td>...</td>\n",
       "      <td>0</td>\n",
       "      <td>0</td>\n",
       "      <td>0</td>\n",
       "      <td>0</td>\n",
       "      <td>0</td>\n",
       "      <td>0</td>\n",
       "      <td>1</td>\n",
       "      <td>5</td>\n",
       "      <td>1</td>\n",
       "      <td>0.0</td>\n",
       "    </tr>\n",
       "  </tbody>\n",
       "</table>\n",
       "<p>5 rows × 21 columns</p>\n",
       "</div>"
      ],
      "text/plain": [
       "        date  high_temp  low_temp weather_am weather_pm  weather_am_hare  \\\n",
       "0 2013-01-01        9.6       3.0          晴         快晴                1   \n",
       "1 2013-01-02       14.4       4.2         快晴         快晴                1   \n",
       "2 2013-01-03        9.9       1.8       曇時々晴          晴                1   \n",
       "3 2013-01-04        6.9       1.0         快晴          晴                1   \n",
       "4 2013-01-05        4.8       0.2          曇       薄曇後晴                0   \n",
       "\n",
       "   weather_pm_hare  weather_hare  weather_am_kumori  weather_pm_kumori  ...  \\\n",
       "0                1             1                  0                  0  ...   \n",
       "1                1             1                  0                  0  ...   \n",
       "2                1             1                  1                  0  ...   \n",
       "3                1             1                  0                  0  ...   \n",
       "4                1             1                  1                  1  ...   \n",
       "\n",
       "   weather_am_ame  weather_pm_ame  weather_ame  weather_am_yuki  \\\n",
       "0               0               0            0                0   \n",
       "1               0               0            0                0   \n",
       "2               0               0            0                0   \n",
       "3               0               0            0                0   \n",
       "4               0               0            0                0   \n",
       "\n",
       "   weather_pm_yuki  weather_yuki  month  dayofyear  week  target  \n",
       "0                0             0      1          1     1     0.0  \n",
       "1                0             0      1          2     1     0.0  \n",
       "2                0             0      1          3     1     0.0  \n",
       "3                0             0      1          4     1     0.0  \n",
       "4                0             0      1          5     1     0.0  \n",
       "\n",
       "[5 rows x 21 columns]"
      ]
     },
     "execution_count": 52,
     "metadata": {},
     "output_type": "execute_result"
    }
   ],
   "source": [
    "df_dm.head()"
   ]
  },
  {
   "cell_type": "code",
   "execution_count": 53,
   "metadata": {},
   "outputs": [],
   "source": [
    "X = df_dm[~df_dm[\"target\"].isna()].loc[:, \n",
    "                                 \n",
    "        [\"date\",\n",
    "        \"high_temp\",\n",
    "         \"low_temp\",\n",
    "         \"weather_hare\",\n",
    "         \"weather_kumori\",\n",
    "         \"weather_ame\",\n",
    "         \"weather_yuki\",\n",
    "         \"month\",\n",
    "         \"dayofyear\",\n",
    "         \"week\",\n",
    "         \"month\"\n",
    "        ]]\n",
    "\n",
    "y = df_dm[~df_dm[\"target\"].isna()][\"target\"]\n",
    "train_idx = (X[\"date\"] < \"2018-01-01\")\n",
    "val_idx    = (X[\"date\"] >= \"2018-01-01\")  & (X[\"date\"] < \"2019-01-01\")\n",
    "test_idx  = (X[\"date\"] >= \"2019-01-01\")\n",
    "X_train = X[train_idx].drop(columns=\"date\")\n",
    "y_train = y[train_idx]\n",
    "X_val = X[val_idx].drop(columns=\"date\")\n",
    "y_val = y[val_idx]"
   ]
  },
  {
   "cell_type": "code",
   "execution_count": 54,
   "metadata": {},
   "outputs": [
    {
     "name": "stderr",
     "output_type": "stream",
     "text": [
      "/Users/nobu/opt/anaconda3/lib/python3.7/site-packages/sklearn/linear_model/logistic.py:432: FutureWarning: Default solver will be changed to 'lbfgs' in 0.22. Specify a solver to silence this warning.\n",
      "  FutureWarning)\n"
     ]
    }
   ],
   "source": [
    "# https://scikit-learn.org/stable/modules/generated/sklearn.linear_model.LinearRegression.html\n",
    "reg = LogisticRegression().fit(X_train, y_train)"
   ]
  },
  {
   "cell_type": "code",
   "execution_count": 55,
   "metadata": {},
   "outputs": [
    {
     "data": {
      "text/plain": [
       "array([0., 0., 0., 0., 0., 0., 0., 1., 0., 0., 0., 0., 0., 0., 0., 0., 0.,\n",
       "       0., 0., 0., 0., 0., 0., 0., 0., 0., 0., 0., 0., 0., 0., 1., 1., 0.,\n",
       "       0., 0., 0., 0., 0., 0., 0., 0., 0., 0., 0., 0., 0., 0., 0., 0., 0.,\n",
       "       1., 1., 0., 0., 1., 0., 0., 1., 0., 0., 0., 0., 1., 0., 1., 0., 1.,\n",
       "       0., 0., 0., 0., 0., 0., 0., 0., 0., 1., 1., 0., 0., 0., 0., 0., 0.,\n",
       "       0., 0., 0., 0., 0., 0., 0., 0., 0., 1., 1., 0., 0., 0., 0., 0., 0.,\n",
       "       0., 1., 1., 0., 1., 0., 0., 0., 0., 0., 1., 1., 0., 0., 0., 0., 0.,\n",
       "       0., 0., 1., 1., 0., 0., 1., 1., 1., 1., 0., 0., 0., 1., 0., 0., 0.,\n",
       "       0., 1., 0., 0., 0., 0., 1., 0., 0., 0., 0., 0., 1., 1., 0., 1., 0.,\n",
       "       0., 0., 1., 1., 0., 1., 1., 1., 1., 1., 0., 1., 1., 1., 1., 1., 1.,\n",
       "       1., 0., 0., 1., 1., 0., 0., 0., 1., 0., 0., 0., 0., 1., 1., 1., 1.,\n",
       "       1., 0., 1., 0., 1., 1., 0., 0., 0., 1., 0., 0., 0., 0., 0., 0., 0.,\n",
       "       1., 1., 0., 1., 1., 0., 0., 0., 0., 0., 0., 0., 0., 1., 1., 1., 0.,\n",
       "       0., 1., 1., 1., 0., 0., 1., 0., 0., 0., 1., 0., 0., 1., 1., 0., 0.,\n",
       "       1., 1., 1., 0., 1., 1., 1., 0., 1., 0., 1., 1., 0., 0., 1., 0., 0.,\n",
       "       0., 1., 1., 0., 1., 1., 0., 1., 1., 0., 0., 1., 1., 1., 0., 0., 1.,\n",
       "       1., 0., 0., 1., 1., 1., 0., 0., 0., 0., 0., 1., 1., 1., 0., 0., 1.,\n",
       "       0., 0., 0., 0., 0., 0., 0., 0., 0., 0., 0., 0., 0., 0., 0., 0., 0.,\n",
       "       0., 1., 0., 1., 0., 0., 1., 0., 0., 1., 1., 0., 0., 0., 0., 1., 1.,\n",
       "       0., 0., 0., 0., 0., 0., 0., 0., 0., 0., 0., 0., 1., 0., 0., 0., 1.,\n",
       "       1., 0., 0., 0., 1., 0., 0., 0., 0., 0., 0., 0., 0., 0., 0., 0., 0.,\n",
       "       0., 0., 0., 0., 0., 0., 0., 0.])"
      ]
     },
     "execution_count": 55,
     "metadata": {},
     "output_type": "execute_result"
    }
   ],
   "source": [
    "reg.predict(X_val)"
   ]
  },
  {
   "cell_type": "code",
   "execution_count": 56,
   "metadata": {},
   "outputs": [
    {
     "data": {
      "text/plain": [
       "0.6273972602739726"
      ]
     },
     "execution_count": 56,
     "metadata": {},
     "output_type": "execute_result"
    }
   ],
   "source": [
    "# 当日の天気をそのままとして\n",
    "# 正解率\n",
    "from sklearn.metrics import accuracy_score\n",
    "accuracy_score(y_val, X_val[\"weather_ame\"])"
   ]
  },
  {
   "cell_type": "code",
   "execution_count": 57,
   "metadata": {},
   "outputs": [
    {
     "name": "stdout",
     "output_type": "stream",
     "text": [
      "train accuracy:  0.6796276013143483\n",
      "val accuracy:  0.6438356164383562\n"
     ]
    }
   ],
   "source": [
    "print(\"train accuracy: \", accuracy_score(y_train, reg.predict(X_train)))\n",
    "print(\"val accuracy: \", accuracy_score(y_val, reg.predict(X_val)))"
   ]
  },
  {
   "cell_type": "code",
   "execution_count": null,
   "metadata": {},
   "outputs": [],
   "source": []
  }
 ],
 "metadata": {
  "kernelspec": {
   "display_name": "Python 3",
   "language": "python",
   "name": "python3"
  },
  "language_info": {
   "codemirror_mode": {
    "name": "ipython",
    "version": 3
   },
   "file_extension": ".py",
   "mimetype": "text/x-python",
   "name": "python",
   "nbconvert_exporter": "python",
   "pygments_lexer": "ipython3",
   "version": "3.7.4"
  }
 },
 "nbformat": 4,
 "nbformat_minor": 2
}
