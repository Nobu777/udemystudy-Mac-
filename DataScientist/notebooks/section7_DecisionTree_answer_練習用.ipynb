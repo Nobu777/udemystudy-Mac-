{
 "cells": [
  {
   "cell_type": "code",
   "execution_count": null,
   "metadata": {},
   "outputs": [],
   "source": [
    "import numpy as np\n",
    "import pandas as pd\n",
    "import matplotlib.pyplot as plt\n",
    "%matplotlib inline"
   ]
  },
  {
   "cell_type": "markdown",
   "metadata": {},
   "source": [
    "# トイデータの作成"
   ]
  },
  {
   "cell_type": "code",
   "execution_count": null,
   "metadata": {},
   "outputs": [],
   "source": [
    "df = pd.DataFrame([])\n",
    "x1 = []\n",
    "x1 += list(np.random.uniform(0,20,10))\n",
    "x1 += list(np.random.uniform(10,30,10))\n",
    "x1 += list(np.random.uniform(20,40,10))\n",
    "x1 += list(np.random.uniform(30,50,10))\n",
    "x1 += list(np.random.uniform(40,60,10))\n",
    "df[\"x1\"] = x1\n",
    "x2 = []\n",
    "x2 += list(np.random.uniform(10,30,10))\n",
    "x2 += list(np.random.uniform(20,40,10))\n",
    "x2 += list(np.random.uniform(10,30,10))\n",
    "x2 += list(np.random.uniform(30, 60,10))\n",
    "x2 += list(np.random.uniform(0,30,10))\n",
    "df[\"x2\"] = x2\n",
    "y = []\n",
    "y += [\"a\"]*10\n",
    "y += [\"b\"]*10\n",
    "y += [\"c\"]*10\n",
    "y += [\"d\"]*10\n",
    "y += [\"e\"]*10\n",
    "df[\"y\"] = y"
   ]
  },
  {
   "cell_type": "code",
   "execution_count": null,
   "metadata": {},
   "outputs": [],
   "source": [
    "import seaborn as sns\n",
    "sns.pairplot(x_vars=[\"x1\"], y_vars=[\"x2\"], data=df, hue=\"y\", size=5)"
   ]
  },
  {
   "cell_type": "markdown",
   "metadata": {},
   "source": [
    "## シンプルな決定木を実装する"
   ]
  },
  {
   "cell_type": "code",
   "execution_count": null,
   "metadata": {},
   "outputs": [],
   "source": []
  },
  {
   "cell_type": "markdown",
   "metadata": {},
   "source": [
    "## ジニ不純度(Gini impurity)の計算"
   ]
  },
  {
   "cell_type": "markdown",
   "metadata": {},
   "source": [
    "$I_{G}(t)=1 - \\sum_{c=1}^n p(c|t)^2$\n",
    "\n",
    "$p(c|t)$: クラスcに属するサンプル割合"
   ]
  },
  {
   "cell_type": "code",
   "execution_count": null,
   "metadata": {},
   "outputs": [],
   "source": []
  },
  {
   "cell_type": "markdown",
   "metadata": {},
   "source": [
    "## information gainを計算する\n",
    "dataframeを二つに分けて、不純度の変化を計算する"
   ]
  },
  {
   "cell_type": "code",
   "execution_count": null,
   "metadata": {},
   "outputs": [],
   "source": []
  },
  {
   "cell_type": "markdown",
   "metadata": {},
   "source": [
    "## 最適なsplitを探索する"
   ]
  },
  {
   "cell_type": "code",
   "execution_count": null,
   "metadata": {},
   "outputs": [],
   "source": []
  },
  {
   "cell_type": "markdown",
   "metadata": {},
   "source": [
    "## 決定木の構築"
   ]
  },
  {
   "cell_type": "code",
   "execution_count": null,
   "metadata": {},
   "outputs": [],
   "source": []
  },
  {
   "cell_type": "markdown",
   "metadata": {},
   "source": [
    "## testしてみる"
   ]
  },
  {
   "cell_type": "code",
   "execution_count": null,
   "metadata": {},
   "outputs": [],
   "source": []
  },
  {
   "cell_type": "markdown",
   "metadata": {},
   "source": [
    "## 追記\n",
    "学習データには、overfitしている"
   ]
  },
  {
   "cell_type": "code",
   "execution_count": null,
   "metadata": {},
   "outputs": [],
   "source": []
  },
  {
   "cell_type": "code",
   "execution_count": null,
   "metadata": {},
   "outputs": [],
   "source": []
  }
 ],
 "metadata": {
  "kernelspec": {
   "display_name": "Python 3",
   "language": "python",
   "name": "python3"
  },
  "language_info": {
   "codemirror_mode": {
    "name": "ipython",
    "version": 3
   },
   "file_extension": ".py",
   "mimetype": "text/x-python",
   "name": "python",
   "nbconvert_exporter": "python",
   "pygments_lexer": "ipython3",
   "version": "3.7.1"
  }
 },
 "nbformat": 4,
 "nbformat_minor": 2
}
