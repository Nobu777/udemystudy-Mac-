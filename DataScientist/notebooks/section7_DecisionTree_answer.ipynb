{
 "cells": [
  {
   "cell_type": "code",
   "execution_count": 1,
   "metadata": {},
   "outputs": [],
   "source": [
    "import numpy as np\n",
    "import pandas as pd\n",
    "import matplotlib.pyplot as plt\n",
    "%matplotlib inline"
   ]
  },
  {
   "cell_type": "markdown",
   "metadata": {},
   "source": [
    "# トイデータの作成"
   ]
  },
  {
   "cell_type": "code",
   "execution_count": 2,
   "metadata": {},
   "outputs": [],
   "source": [
    "df = pd.DataFrame([])\n",
    "x1 = []\n",
    "x1 += list(np.random.uniform(0,20,10))\n",
    "x1 += list(np.random.uniform(10,30,10))\n",
    "x1 += list(np.random.uniform(20,40,10))\n",
    "x1 += list(np.random.uniform(30,50,10))\n",
    "x1 += list(np.random.uniform(40,60,10))\n",
    "df[\"x1\"] = x1\n",
    "x2 = []\n",
    "x2 += list(np.random.uniform(10,30,10))\n",
    "x2 += list(np.random.uniform(20,40,10))\n",
    "x2 += list(np.random.uniform(10,30,10))\n",
    "x2 += list(np.random.uniform(30, 60,10))\n",
    "x2 += list(np.random.uniform(0,30,10))\n",
    "df[\"x2\"] = x2\n",
    "y = []\n",
    "y += [\"a\"]*10\n",
    "y += [\"b\"]*10\n",
    "y += [\"c\"]*10\n",
    "y += [\"d\"]*10\n",
    "y += [\"e\"]*10\n",
    "df[\"y\"] = y"
   ]
  },
  {
   "cell_type": "code",
   "execution_count": 3,
   "metadata": {},
   "outputs": [
    {
     "name": "stderr",
     "output_type": "stream",
     "text": [
      "/Users/nobu/opt/anaconda3/lib/python3.7/site-packages/seaborn/axisgrid.py:2065: UserWarning: The `size` parameter has been renamed to `height`; pleaes update your code.\n",
      "  warnings.warn(msg, UserWarning)\n"
     ]
    },
    {
     "data": {
      "text/plain": [
       "<seaborn.axisgrid.PairGrid at 0x11c41c8d0>"
      ]
     },
     "execution_count": 3,
     "metadata": {},
     "output_type": "execute_result"
    },
    {
     "data": {
      "image/png": "[encoded data removed]",
      "text/plain": [
       "<Figure size 402.375x360 with 1 Axes>"
      ]
     },
     "metadata": {
      "needs_background": "light"
     },
     "output_type": "display_data"
    }
   ],
   "source": [
    "import seaborn as sns\n",
    "sns.pairplot(x_vars=[\"x1\"], y_vars=[\"x2\"], data=df, hue=\"y\", size=5)"
   ]
  },
  {
   "cell_type": "markdown",
   "metadata": {},
   "source": [
    "## シンプルな決定木を実装する"
   ]
  },
  {
   "cell_type": "code",
   "execution_count": 4,
   "metadata": {},
   "outputs": [
    {
     "data": {
      "text/html": [
       "<div>\n",
       "<style scoped>\n",
       "    .dataframe tbody tr th:only-of-type {\n",
       "        vertical-align: middle;\n",
       "    }\n",
       "\n",
       "    .dataframe tbody tr th {\n",
       "        vertical-align: top;\n",
       "    }\n",
       "\n",
       "    .dataframe thead th {\n",
       "        text-align: right;\n",
       "    }\n",
       "</style>\n",
       "<table border=\"1\" class=\"dataframe\">\n",
       "  <thead>\n",
       "    <tr style=\"text-align: right;\">\n",
       "      <th></th>\n",
       "      <th>x1</th>\n",
       "      <th>x2</th>\n",
       "      <th>y</th>\n",
       "    </tr>\n",
       "  </thead>\n",
       "  <tbody>\n",
       "    <tr>\n",
       "      <td>0</td>\n",
       "      <td>9.635302</td>\n",
       "      <td>13.607068</td>\n",
       "      <td>a</td>\n",
       "    </tr>\n",
       "    <tr>\n",
       "      <td>1</td>\n",
       "      <td>1.894932</td>\n",
       "      <td>20.397469</td>\n",
       "      <td>a</td>\n",
       "    </tr>\n",
       "    <tr>\n",
       "      <td>2</td>\n",
       "      <td>18.064188</td>\n",
       "      <td>28.172856</td>\n",
       "      <td>a</td>\n",
       "    </tr>\n",
       "    <tr>\n",
       "      <td>3</td>\n",
       "      <td>14.799798</td>\n",
       "      <td>14.752606</td>\n",
       "      <td>a</td>\n",
       "    </tr>\n",
       "    <tr>\n",
       "      <td>4</td>\n",
       "      <td>9.648572</td>\n",
       "      <td>15.584423</td>\n",
       "      <td>a</td>\n",
       "    </tr>\n",
       "  </tbody>\n",
       "</table>\n",
       "</div>"
      ],
      "text/plain": [
       "          x1         x2  y\n",
       "0   9.635302  13.607068  a\n",
       "1   1.894932  20.397469  a\n",
       "2  18.064188  28.172856  a\n",
       "3  14.799798  14.752606  a\n",
       "4   9.648572  15.584423  a"
      ]
     },
     "execution_count": 4,
     "metadata": {},
     "output_type": "execute_result"
    }
   ],
   "source": [
    "df.head()"
   ]
  },
  {
   "cell_type": "code",
   "execution_count": 5,
   "metadata": {},
   "outputs": [],
   "source": [
    "from pandas.api.types import is_numeric_dtype\n",
    "def is_numeric(df, col):\n",
    "    return is_numeric_dtype(df[col])"
   ]
  },
  {
   "cell_type": "code",
   "execution_count": 6,
   "metadata": {},
   "outputs": [],
   "source": [
    "class Partition:\n",
    "    def __init__(self, column, value):\n",
    "        self.column = column\n",
    "        self.value = value\n",
    "    def split_df(self, df):\n",
    "        v = df[self.column]\n",
    "        if is_numeric(df, self.column):\n",
    "            return df[v <= self.value], df[v > self.value]\n",
    "        else:\n",
    "            return df[v == self.value], df[v != self.value]"
   ]
  },
  {
   "cell_type": "code",
   "execution_count": 7,
   "metadata": {},
   "outputs": [],
   "source": [
    "p = Partition(\"x1\", 30)"
   ]
  },
  {
   "cell_type": "code",
   "execution_count": 8,
   "metadata": {},
   "outputs": [],
   "source": [
    "df_left, df_right = p.split_df(df)"
   ]
  },
  {
   "cell_type": "markdown",
   "metadata": {},
   "source": [
    "## ジニ不純度(Gini impurity)の計算"
   ]
  },
  {
   "cell_type": "markdown",
   "metadata": {},
   "source": [
    "$I_{G}(t)=1 - \\sum_{c=1}^n p(c|t)^2$\n",
    "\n",
    "$p(c|t)$: クラスcに属するサンプル割合"
   ]
  },
  {
   "cell_type": "code",
   "execution_count": 9,
   "metadata": {},
   "outputs": [],
   "source": [
    "def gini(df_partitioned, target_col):\n",
    "    counts = df_partitioned[target_col].value_counts()\n",
    "    gini = 1\n",
    "    for k, v in counts.iteritems():\n",
    "        gini -= (v/len(df_partitioned))**2\n",
    "    return gini"
   ]
  },
  {
   "cell_type": "code",
   "execution_count": 10,
   "metadata": {},
   "outputs": [
    {
     "data": {
      "text/plain": [
       "0.604914933837429"
      ]
     },
     "execution_count": 10,
     "metadata": {},
     "output_type": "execute_result"
    }
   ],
   "source": [
    "gini(df_left, \"y\")"
   ]
  },
  {
   "cell_type": "code",
   "execution_count": 11,
   "metadata": {},
   "outputs": [
    {
     "data": {
      "text/plain": [
       "0.0"
      ]
     },
     "execution_count": 11,
     "metadata": {},
     "output_type": "execute_result"
    }
   ],
   "source": [
    "df_toy = df[df[\"y\"] == \"a\"]\n",
    "gini(df_toy, \"y\")"
   ]
  },
  {
   "cell_type": "code",
   "execution_count": 12,
   "metadata": {},
   "outputs": [
    {
     "data": {
      "text/plain": [
       "0.7999999999999998"
      ]
     },
     "execution_count": 12,
     "metadata": {},
     "output_type": "execute_result"
    }
   ],
   "source": [
    "gini(df, \"y\")"
   ]
  },
  {
   "cell_type": "markdown",
   "metadata": {},
   "source": [
    "## information gainを計算する\n",
    "dataframeを二つに分けて、不純度の変化を計算する"
   ]
  },
  {
   "cell_type": "code",
   "execution_count": 13,
   "metadata": {},
   "outputs": [],
   "source": [
    "def information_gain(left, right, current_impurity, target):\n",
    "    p = float(len(left))/(len(left)+len(right))\n",
    "    gain = current_impurity - (p*gini(left, target) + (1-p)*gini(right, target))\n",
    "    return gain"
   ]
  },
  {
   "cell_type": "code",
   "execution_count": 14,
   "metadata": {},
   "outputs": [
    {
     "data": {
      "text/plain": [
       "0.16618357487922686"
      ]
     },
     "execution_count": 14,
     "metadata": {},
     "output_type": "execute_result"
    }
   ],
   "source": [
    "first_impurity = gini(df, \"y\")\n",
    "p = Partition(\"x1\", 30)\n",
    "df_left, df_right = p.split_df(df)\n",
    "information_gain(df_left, df_right, first_impurity, \"y\")"
   ]
  },
  {
   "cell_type": "markdown",
   "metadata": {},
   "source": [
    "## 最適なsplitを探索する"
   ]
  },
  {
   "cell_type": "code",
   "execution_count": 15,
   "metadata": {},
   "outputs": [],
   "source": [
    "def find_best_split(df, target):\n",
    "    max_gain = 0\n",
    "    best_split = None\n",
    "    current_impurity = gini(df, target)\n",
    "    columns = [e for e in df.columns.tolist() if e != target]\n",
    "    for col in columns:\n",
    "        values = set(df[col].values)\n",
    "        for value in values:\n",
    "            # gainを計算して、最大のgainを記録していく\n",
    "            p = Partition(col, value)\n",
    "            df_left, df_right = p.split_df(df)\n",
    "            if len(df_left) == 0 or len(df_right) == 0:\n",
    "                continue\n",
    "            gain = information_gain(df_left, df_right, current_impurity, target)\n",
    "            if gain > max_gain:\n",
    "                max_gain = gain\n",
    "                best_split = [col, value]\n",
    "    return best_split, max_gain"
   ]
  },
  {
   "cell_type": "code",
   "execution_count": 16,
   "metadata": {},
   "outputs": [],
   "source": [
    "best_split, max_gain = find_best_split(df, \"y\")"
   ]
  },
  {
   "cell_type": "code",
   "execution_count": 17,
   "metadata": {},
   "outputs": [
    {
     "data": {
      "text/plain": [
       "0.16618357487922686"
      ]
     },
     "execution_count": 17,
     "metadata": {},
     "output_type": "execute_result"
    }
   ],
   "source": [
    "max_gain"
   ]
  },
  {
   "cell_type": "code",
   "execution_count": 18,
   "metadata": {},
   "outputs": [
    {
     "data": {
      "text/plain": [
       "['x1', 29.285124621445352]"
      ]
     },
     "execution_count": 18,
     "metadata": {},
     "output_type": "execute_result"
    }
   ],
   "source": [
    "best_split"
   ]
  },
  {
   "cell_type": "code",
   "execution_count": 19,
   "metadata": {},
   "outputs": [
    {
     "data": {
      "text/plain": [
       "[<matplotlib.lines.Line2D at 0x1a1f20f450>]"
      ]
     },
     "execution_count": 19,
     "metadata": {},
     "output_type": "execute_result"
    },
    {
     "data": {
      "image/png": "[encoded data removed]",
      "text/plain": [
       "<Figure size 402.375x360 with 1 Axes>"
      ]
     },
     "metadata": {
      "needs_background": "light"
     },
     "output_type": "display_data"
    }
   ],
   "source": [
    "import seaborn as sns\n",
    "sns.pairplot(x_vars=[\"x1\"], y_vars=[\"x2\"], data=df, hue=\"y\", size=5)\n",
    "plt.plot( [13.312367639178948 for e in range(60)], [e for e in range(0, 60)])"
   ]
  },
  {
   "cell_type": "markdown",
   "metadata": {},
   "source": [
    "## 決定木の構築"
   ]
  },
  {
   "cell_type": "code",
   "execution_count": 20,
   "metadata": {},
   "outputs": [],
   "source": [
    "# 決定木の最後の葉っぱの部分。decisoin nodeで分割されたあと、gainが0になった地点\n",
    "# Leafに残っているデータのクラスごとのカウントの割合を、予測結果にする\n",
    "# {a: 10%, b: 70%, c: 20%}のように\n",
    "\n",
    "class Leaf:\n",
    "    def __init__(self, df, target):\n",
    "        self.results = df[target].value_counts()/len(df)*100\n",
    "\n",
    "class DecisionNode:\n",
    "    def __init__(self, best_split, left_decision, right_decision):\n",
    "        self.best_split = best_split\n",
    "        self.left_decision = left_decision\n",
    "        self.right_decision = right_decision"
   ]
  },
  {
   "cell_type": "code",
   "execution_count": 21,
   "metadata": {},
   "outputs": [],
   "source": [
    "def make_decision_tree(df, target):\n",
    "    # 再帰的に決定技を構築する\n",
    "    best_split, gain = find_best_split(df, target)\n",
    "    if gain == 0 or gain is None:\n",
    "        return Leaf(df, target)\n",
    "    p = Partition(*best_split)\n",
    "    left, right = p.split_df(df)\n",
    "    left_decision = make_decision_tree(left, target)\n",
    "    right_decision = make_decision_tree(right, target)\n",
    "    return DecisionNode(best_split, left_decision, right_decision)"
   ]
  },
  {
   "cell_type": "code",
   "execution_count": 22,
   "metadata": {},
   "outputs": [],
   "source": [
    "tree = make_decision_tree(df, \"y\")"
   ]
  },
  {
   "cell_type": "code",
   "execution_count": 23,
   "metadata": {},
   "outputs": [],
   "source": [
    "def predict(node, df):\n",
    "    # node; Leaf, DecisionNode\n",
    "    if isinstance(node, Leaf):\n",
    "        return node.results\n",
    "    col, value = node.best_split\n",
    "    if is_numeric(df, col):\n",
    "        if df[col] <= value:\n",
    "            return predict(node.left_decision, df)\n",
    "        else:\n",
    "            return predict(node.right_decision, df)\n",
    "    else:\n",
    "        if df[col] == value:\n",
    "            return predict(node.left_decision, df)\n",
    "        else:\n",
    "            return predict(node.right_decision, df)"
   ]
  },
  {
   "cell_type": "code",
   "execution_count": 24,
   "metadata": {},
   "outputs": [
    {
     "data": {
      "text/plain": [
       "x1     9.6353\n",
       "x2    13.6071\n",
       "y           a\n",
       "Name: 0, dtype: object"
      ]
     },
     "execution_count": 24,
     "metadata": {},
     "output_type": "execute_result"
    }
   ],
   "source": [
    "df.iloc[0]"
   ]
  },
  {
   "cell_type": "code",
   "execution_count": 25,
   "metadata": {},
   "outputs": [
    {
     "data": {
      "text/plain": [
       "a    100.0\n",
       "Name: y, dtype: float64"
      ]
     },
     "execution_count": 25,
     "metadata": {},
     "output_type": "execute_result"
    }
   ],
   "source": [
    "predict(tree, df.iloc[0])"
   ]
  },
  {
   "cell_type": "markdown",
   "metadata": {},
   "source": [
    "## testしてみる"
   ]
  },
  {
   "cell_type": "code",
   "execution_count": 26,
   "metadata": {},
   "outputs": [],
   "source": [
    "df_test = pd.DataFrame([])\n",
    "x1 = []\n",
    "x1 += list(np.random.uniform(0,20,10))\n",
    "x1 += list(np.random.uniform(10,30,10))\n",
    "x1 += list(np.random.uniform(20,40,10))\n",
    "x1 += list(np.random.uniform(30,50,10))\n",
    "x1 += list(np.random.uniform(40,60,10))\n",
    "df_test[\"x1\"] = x1\n",
    "x2 = []\n",
    "x2 += list(np.random.uniform(10,25,10))\n",
    "x2 += list(np.random.uniform(25,40,10))\n",
    "x2 += list(np.random.uniform(0,30,10))\n",
    "x2 += list(np.random.uniform(30, 35,10))\n",
    "x2 += list(np.random.uniform(13,17,10))\n",
    "df_test[\"x2\"] = x2\n",
    "y = []\n",
    "y += [\"a\"]*10\n",
    "y += [\"b\"]*10\n",
    "y += [\"c\"]*10\n",
    "y += [\"d\"]*10\n",
    "y += [\"e\"]*10\n",
    "df_test[\"y\"] = y"
   ]
  },
  {
   "cell_type": "code",
   "execution_count": 27,
   "metadata": {},
   "outputs": [
    {
     "data": {
      "text/plain": [
       "<seaborn.axisgrid.PairGrid at 0x1a1f27a150>"
      ]
     },
     "execution_count": 27,
     "metadata": {},
     "output_type": "execute_result"
    },
    {
     "data": {
      "image/png": "[encoded data removed]",
      "text/plain": [
       "<Figure size 402.375x360 with 1 Axes>"
      ]
     },
     "metadata": {
      "needs_background": "light"
     },
     "output_type": "display_data"
    }
   ],
   "source": [
    "import seaborn as sns\n",
    "sns.pairplot(x_vars=[\"x1\"], y_vars=[\"x2\"], data=df_test, hue=\"y\", size=5)"
   ]
  },
  {
   "cell_type": "code",
   "execution_count": 28,
   "metadata": {},
   "outputs": [
    {
     "data": {
      "text/plain": [
       "0.9"
      ]
     },
     "execution_count": 28,
     "metadata": {},
     "output_type": "execute_result"
    }
   ],
   "source": [
    "correct = 0\n",
    "for i in range(len(df_test)):\n",
    "    if predict(tree, df_test.iloc[i]).index[0] == df_test.iloc[i][\"y\"]:\n",
    "        correct += 1\n",
    "correct/len(df_test)"
   ]
  },
  {
   "cell_type": "markdown",
   "metadata": {},
   "source": [
    "## 追記\n",
    "学習データには、overfitしている"
   ]
  },
  {
   "cell_type": "code",
   "execution_count": 29,
   "metadata": {},
   "outputs": [
    {
     "data": {
      "text/plain": [
       "1.0"
      ]
     },
     "execution_count": 29,
     "metadata": {},
     "output_type": "execute_result"
    }
   ],
   "source": [
    "correct = 0\n",
    "for i in range(len(df)):\n",
    "    if predict(tree, df.iloc[i]).index[0] == df.iloc[i][\"y\"]:\n",
    "        correct += 1\n",
    "correct/len(df_test)"
   ]
  },
  {
   "cell_type": "code",
   "execution_count": null,
   "metadata": {},
   "outputs": [],
   "source": []
  }
 ],
 "metadata": {
  "kernelspec": {
   "display_name": "Python 3",
   "language": "python",
   "name": "python3"
  },
  "language_info": {
   "codemirror_mode": {
    "name": "ipython",
    "version": 3
   },
   "file_extension": ".py",
   "mimetype": "text/x-python",
   "name": "python",
   "nbconvert_exporter": "python",
   "pygments_lexer": "ipython3",
   "version": "3.7.4"
  }
 },
 "nbformat": 4,
 "nbformat_minor": 2
}
