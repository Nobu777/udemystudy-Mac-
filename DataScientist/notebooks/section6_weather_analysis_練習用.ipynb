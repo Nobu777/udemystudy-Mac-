{
 "cells": [
  {
   "cell_type": "markdown",
   "metadata": {},
   "source": [
    "# ライブラリのインポート"
   ]
  },
  {
   "cell_type": "code",
   "execution_count": 1,
   "metadata": {},
   "outputs": [],
   "source": [
    "import os\n",
    "import pandas as pd\n",
    "import sklearn\n",
    "import csv\n",
    "import datetime\n",
    "# 可視化用\n",
    "import japanize_matplotlib\n",
    "import seaborn as sns\n",
    "import matplotlib.pyplot as plt"
   ]
  },
  {
   "cell_type": "markdown",
   "metadata": {},
   "source": [
    "# データの読み込み"
   ]
  },
  {
   "cell_type": "code",
   "execution_count": 2,
   "metadata": {},
   "outputs": [
    {
     "name": "stdout",
     "output_type": "stream",
     "text": [
      "date,high_temp,low_temp,weather_am,weather_pm\r",
      "\r\n",
      "2013/1/1,9.6,3,晴,快晴\r",
      "\r\n",
      "2013/1/2,14.4,4.2,快晴,快晴\r",
      "\r\n",
      "2013/1/3,9.9,1.8,曇時々晴,晴\r",
      "\r\n",
      "2013/1/4,6.9,1,快晴,晴\r",
      "\r\n",
      "2013/1/5,4.8,0.2,曇,薄曇後晴\r",
      "\r\n",
      "2013/1/6,10.3,-1.4,薄曇一時晴,薄曇後晴\r",
      "\r\n",
      "2013/1/7,8.9,2.1,晴時々曇,晴時々曇\r",
      "\r\n",
      "2013/1/8,11.4,2.6,晴,晴後曇\r",
      "\r\n",
      "2013/1/9,9.4,4.4,晴時々曇,曇一時晴\r",
      "\r\n"
     ]
    }
   ],
   "source": [
    "!head ../data/weather_201301_201908_cleaned.csv"
   ]
  },
  {
   "cell_type": "markdown",
   "metadata": {},
   "source": [
    "# EDA"
   ]
  },
  {
   "cell_type": "markdown",
   "metadata": {},
   "source": [
    "## DataCleaning"
   ]
  },
  {
   "cell_type": "code",
   "execution_count": null,
   "metadata": {},
   "outputs": [],
   "source": []
  },
  {
   "cell_type": "markdown",
   "metadata": {},
   "source": [
    "## 月別集計"
   ]
  },
  {
   "cell_type": "code",
   "execution_count": null,
   "metadata": {},
   "outputs": [],
   "source": []
  },
  {
   "cell_type": "markdown",
   "metadata": {},
   "source": [
    "# 分析設計\n",
    "## モデルの概要\n",
    "当日までのデータを用いて、明日の天気を予測する\n",
    "\n",
    "## 説明変数\n",
    "* 時系列特徴\n",
    "    * 日付\n",
    "    * 週番号\n",
    "    * 月番号\n",
    "* 当日の天気\n",
    "* 当日の最高気温\n",
    "* 当日の最低気温\n",
    "\n",
    "## 目的変数\n",
    "* 明日の天気\n",
    "    * 晴れの確率\n",
    "    * 雨の確率\n",
    "    * 曇りの確率\n",
    "    * 雪の確率\n",
    "* 明日の最高気温\n",
    "* 明日の最低気温\n",
    "\n",
    "## 母集団\n",
    "train: 2013年1月~2017年12月までの天気データ\n",
    "\n",
    "validation: 2018年1月~2018年12月までの天気データ\n",
    "\n",
    "test : 2019年1月~2019年7月"
   ]
  },
  {
   "cell_type": "markdown",
   "metadata": {},
   "source": []
  },
  {
   "cell_type": "markdown",
   "metadata": {},
   "source": [
    "## 当日の最低気温のみで予測した場合"
   ]
  },
  {
   "cell_type": "code",
   "execution_count": null,
   "metadata": {
    "scrolled": true
   },
   "outputs": [],
   "source": []
  },
  {
   "cell_type": "markdown",
   "metadata": {},
   "source": [
    "## 最低気温の予測"
   ]
  },
  {
   "cell_type": "code",
   "execution_count": null,
   "metadata": {},
   "outputs": [],
   "source": []
  },
  {
   "cell_type": "markdown",
   "metadata": {},
   "source": [
    "## 雨の予測"
   ]
  },
  {
   "cell_type": "code",
   "execution_count": null,
   "metadata": {},
   "outputs": [],
   "source": []
  },
  {
   "cell_type": "code",
   "execution_count": null,
   "metadata": {},
   "outputs": [],
   "source": []
  }
 ],
 "metadata": {
  "kernelspec": {
   "display_name": "Python 3",
   "language": "python",
   "name": "python3"
  },
  "language_info": {
   "codemirror_mode": {
    "name": "ipython",
    "version": 3
   },
   "file_extension": ".py",
   "mimetype": "text/x-python",
   "name": "python",
   "nbconvert_exporter": "python",
   "pygments_lexer": "ipython3",
   "version": "3.7.1"
  }
 },
 "nbformat": 4,
 "nbformat_minor": 2
}
