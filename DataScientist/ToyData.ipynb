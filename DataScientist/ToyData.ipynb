{
 "cells": [
  {
   "cell_type": "code",
   "execution_count": 26,
   "metadata": {},
   "outputs": [],
   "source": [
    "import numpy as np\n",
    "import pandas as pd\n",
    "import matplotlib.pyplot as plt\n",
    "%matplotlib inline"
   ]
  },
  {
   "cell_type": "code",
   "execution_count": 27,
   "metadata": {},
   "outputs": [],
   "source": [
    "df = pd.DataFrame([])\n",
    "x1 = []\n",
    "x1 += list(np.random.uniform(0,20,10))\n",
    "x1 += list(np.random.uniform(10,30,10))\n",
    "x1 += list(np.random.uniform(20,40,10))\n",
    "x1 += list(np.random.uniform(30,50,10))\n",
    "x1 += list(np.random.uniform(40,60,10))\n",
    "df[\"x1\"] = x1\n",
    "x2 = []\n",
    "x2 += list(np.random.uniform(10,30,10))\n",
    "x2 += list(np.random.uniform(20,40,10))\n",
    "x2 += list(np.random.uniform(10,30,10))\n",
    "x2 += list(np.random.uniform(30,60,10))\n",
    "x2 += list(np.random.uniform(0,30,10))\n",
    "df[\"x2\"] = x2\n",
    "y = []\n",
    "y += [\"a\"]*10\n",
    "y += [\"b\"]*10\n",
    "y += [\"c\"]*10\n",
    "y += [\"d\"]*10\n",
    "y += [\"e\"]*10\n",
    "df[\"y\"] = y"
   ]
  },
  {
   "cell_type": "code",
   "execution_count": 28,
   "metadata": {},
   "outputs": [
    {
     "data": {
      "text/plain": [
       "<seaborn.axisgrid.PairGrid at 0x1a1c403b90>"
      ]
     },
     "execution_count": 28,
     "metadata": {},
     "output_type": "execute_result"
    },
    {
     "data": {
      "image/png": "[encoded data removed]",
      "text/plain": [
       "<Figure size 402.375x360 with 1 Axes>"
      ]
     },
     "metadata": {
      "needs_background": "light"
     },
     "output_type": "display_data"
    }
   ],
   "source": [
    "import seaborn as sns\n",
    "sns.pairplot(x_vars=[\"x1\"],y_vars=[\"x2\"], data=df, hue=\"y\", size=5)"
   ]
  },
  {
   "cell_type": "code",
   "execution_count": 29,
   "metadata": {},
   "outputs": [
    {
     "data": {
      "text/html": [
       "<div>\n",
       "<style scoped>\n",
       "    .dataframe tbody tr th:only-of-type {\n",
       "        vertical-align: middle;\n",
       "    }\n",
       "\n",
       "    .dataframe tbody tr th {\n",
       "        vertical-align: top;\n",
       "    }\n",
       "\n",
       "    .dataframe thead th {\n",
       "        text-align: right;\n",
       "    }\n",
       "</style>\n",
       "<table border=\"1\" class=\"dataframe\">\n",
       "  <thead>\n",
       "    <tr style=\"text-align: right;\">\n",
       "      <th></th>\n",
       "      <th>x1</th>\n",
       "      <th>x2</th>\n",
       "      <th>y</th>\n",
       "    </tr>\n",
       "  </thead>\n",
       "  <tbody>\n",
       "    <tr>\n",
       "      <td>0</td>\n",
       "      <td>11.374964</td>\n",
       "      <td>18.663167</td>\n",
       "      <td>a</td>\n",
       "    </tr>\n",
       "    <tr>\n",
       "      <td>1</td>\n",
       "      <td>10.151294</td>\n",
       "      <td>28.214143</td>\n",
       "      <td>a</td>\n",
       "    </tr>\n",
       "    <tr>\n",
       "      <td>2</td>\n",
       "      <td>9.830754</td>\n",
       "      <td>21.315352</td>\n",
       "      <td>a</td>\n",
       "    </tr>\n",
       "    <tr>\n",
       "      <td>3</td>\n",
       "      <td>13.493922</td>\n",
       "      <td>21.563596</td>\n",
       "      <td>a</td>\n",
       "    </tr>\n",
       "    <tr>\n",
       "      <td>4</td>\n",
       "      <td>16.674071</td>\n",
       "      <td>12.925849</td>\n",
       "      <td>a</td>\n",
       "    </tr>\n",
       "  </tbody>\n",
       "</table>\n",
       "</div>"
      ],
      "text/plain": [
       "          x1         x2  y\n",
       "0  11.374964  18.663167  a\n",
       "1  10.151294  28.214143  a\n",
       "2   9.830754  21.315352  a\n",
       "3  13.493922  21.563596  a\n",
       "4  16.674071  12.925849  a"
      ]
     },
     "execution_count": 29,
     "metadata": {},
     "output_type": "execute_result"
    }
   ],
   "source": [
    "df.head()"
   ]
  },
  {
   "cell_type": "code",
   "execution_count": 30,
   "metadata": {},
   "outputs": [],
   "source": [
    "from pandas.api.types import is_numeric_dtype\n",
    "def is_numeric(df, col):\n",
    "    return is_numeric_dtype(df[col])"
   ]
  },
  {
   "cell_type": "code",
   "execution_count": 31,
   "metadata": {},
   "outputs": [],
   "source": [
    "class Partition:\n",
    "    def __init__(self, column, value):\n",
    "        self.column = column\n",
    "        self.value = value\n",
    "    def split_df(self, df):\n",
    "        v = df[self.column]\n",
    "        if is_numeric(df, self.column):\n",
    "            return df[v<= self.value], df[v > self.value]\n",
    "        else:\n",
    "            return df[v == self.value],df[v != self.value]"
   ]
  },
  {
   "cell_type": "code",
   "execution_count": 32,
   "metadata": {},
   "outputs": [],
   "source": [
    "p = Partition(\"x1\", 30)"
   ]
  },
  {
   "cell_type": "code",
   "execution_count": 33,
   "metadata": {},
   "outputs": [],
   "source": [
    "df_left, df_right = p.split_df(df)"
   ]
  },
  {
   "cell_type": "code",
   "execution_count": 34,
   "metadata": {},
   "outputs": [
    {
     "data": {
      "text/html": [
       "<div>\n",
       "<style scoped>\n",
       "    .dataframe tbody tr th:only-of-type {\n",
       "        vertical-align: middle;\n",
       "    }\n",
       "\n",
       "    .dataframe tbody tr th {\n",
       "        vertical-align: top;\n",
       "    }\n",
       "\n",
       "    .dataframe thead th {\n",
       "        text-align: right;\n",
       "    }\n",
       "</style>\n",
       "<table border=\"1\" class=\"dataframe\">\n",
       "  <thead>\n",
       "    <tr style=\"text-align: right;\">\n",
       "      <th></th>\n",
       "      <th>x1</th>\n",
       "      <th>x2</th>\n",
       "      <th>y</th>\n",
       "    </tr>\n",
       "  </thead>\n",
       "  <tbody>\n",
       "    <tr>\n",
       "      <td>22</td>\n",
       "      <td>39.033622</td>\n",
       "      <td>27.885096</td>\n",
       "      <td>c</td>\n",
       "    </tr>\n",
       "    <tr>\n",
       "      <td>25</td>\n",
       "      <td>33.981330</td>\n",
       "      <td>22.467979</td>\n",
       "      <td>c</td>\n",
       "    </tr>\n",
       "    <tr>\n",
       "      <td>26</td>\n",
       "      <td>30.084814</td>\n",
       "      <td>21.641122</td>\n",
       "      <td>c</td>\n",
       "    </tr>\n",
       "    <tr>\n",
       "      <td>27</td>\n",
       "      <td>31.161350</td>\n",
       "      <td>14.699766</td>\n",
       "      <td>c</td>\n",
       "    </tr>\n",
       "    <tr>\n",
       "      <td>28</td>\n",
       "      <td>38.490413</td>\n",
       "      <td>24.751276</td>\n",
       "      <td>c</td>\n",
       "    </tr>\n",
       "    <tr>\n",
       "      <td>29</td>\n",
       "      <td>36.603909</td>\n",
       "      <td>21.906183</td>\n",
       "      <td>c</td>\n",
       "    </tr>\n",
       "    <tr>\n",
       "      <td>30</td>\n",
       "      <td>40.629559</td>\n",
       "      <td>59.198455</td>\n",
       "      <td>d</td>\n",
       "    </tr>\n",
       "    <tr>\n",
       "      <td>31</td>\n",
       "      <td>31.098099</td>\n",
       "      <td>42.979587</td>\n",
       "      <td>d</td>\n",
       "    </tr>\n",
       "    <tr>\n",
       "      <td>32</td>\n",
       "      <td>34.439971</td>\n",
       "      <td>35.280627</td>\n",
       "      <td>d</td>\n",
       "    </tr>\n",
       "    <tr>\n",
       "      <td>33</td>\n",
       "      <td>38.112954</td>\n",
       "      <td>53.759159</td>\n",
       "      <td>d</td>\n",
       "    </tr>\n",
       "    <tr>\n",
       "      <td>34</td>\n",
       "      <td>30.897220</td>\n",
       "      <td>57.826902</td>\n",
       "      <td>d</td>\n",
       "    </tr>\n",
       "    <tr>\n",
       "      <td>35</td>\n",
       "      <td>35.187131</td>\n",
       "      <td>33.549773</td>\n",
       "      <td>d</td>\n",
       "    </tr>\n",
       "    <tr>\n",
       "      <td>36</td>\n",
       "      <td>48.519276</td>\n",
       "      <td>33.118684</td>\n",
       "      <td>d</td>\n",
       "    </tr>\n",
       "    <tr>\n",
       "      <td>37</td>\n",
       "      <td>32.893559</td>\n",
       "      <td>50.588708</td>\n",
       "      <td>d</td>\n",
       "    </tr>\n",
       "    <tr>\n",
       "      <td>38</td>\n",
       "      <td>34.415672</td>\n",
       "      <td>39.571407</td>\n",
       "      <td>d</td>\n",
       "    </tr>\n",
       "    <tr>\n",
       "      <td>39</td>\n",
       "      <td>35.466513</td>\n",
       "      <td>34.745506</td>\n",
       "      <td>d</td>\n",
       "    </tr>\n",
       "    <tr>\n",
       "      <td>40</td>\n",
       "      <td>43.083132</td>\n",
       "      <td>13.286934</td>\n",
       "      <td>e</td>\n",
       "    </tr>\n",
       "    <tr>\n",
       "      <td>41</td>\n",
       "      <td>51.088702</td>\n",
       "      <td>11.139624</td>\n",
       "      <td>e</td>\n",
       "    </tr>\n",
       "    <tr>\n",
       "      <td>42</td>\n",
       "      <td>45.552079</td>\n",
       "      <td>1.498931</td>\n",
       "      <td>e</td>\n",
       "    </tr>\n",
       "    <tr>\n",
       "      <td>43</td>\n",
       "      <td>51.494189</td>\n",
       "      <td>3.579631</td>\n",
       "      <td>e</td>\n",
       "    </tr>\n",
       "    <tr>\n",
       "      <td>44</td>\n",
       "      <td>57.578525</td>\n",
       "      <td>16.871489</td>\n",
       "      <td>e</td>\n",
       "    </tr>\n",
       "    <tr>\n",
       "      <td>45</td>\n",
       "      <td>46.122069</td>\n",
       "      <td>15.394472</td>\n",
       "      <td>e</td>\n",
       "    </tr>\n",
       "    <tr>\n",
       "      <td>46</td>\n",
       "      <td>59.221097</td>\n",
       "      <td>4.410934</td>\n",
       "      <td>e</td>\n",
       "    </tr>\n",
       "    <tr>\n",
       "      <td>47</td>\n",
       "      <td>57.026625</td>\n",
       "      <td>19.515094</td>\n",
       "      <td>e</td>\n",
       "    </tr>\n",
       "    <tr>\n",
       "      <td>48</td>\n",
       "      <td>49.305833</td>\n",
       "      <td>4.791154</td>\n",
       "      <td>e</td>\n",
       "    </tr>\n",
       "    <tr>\n",
       "      <td>49</td>\n",
       "      <td>55.025798</td>\n",
       "      <td>11.413157</td>\n",
       "      <td>e</td>\n",
       "    </tr>\n",
       "  </tbody>\n",
       "</table>\n",
       "</div>"
      ],
      "text/plain": [
       "           x1         x2  y\n",
       "22  39.033622  27.885096  c\n",
       "25  33.981330  22.467979  c\n",
       "26  30.084814  21.641122  c\n",
       "27  31.161350  14.699766  c\n",
       "28  38.490413  24.751276  c\n",
       "29  36.603909  21.906183  c\n",
       "30  40.629559  59.198455  d\n",
       "31  31.098099  42.979587  d\n",
       "32  34.439971  35.280627  d\n",
       "33  38.112954  53.759159  d\n",
       "34  30.897220  57.826902  d\n",
       "35  35.187131  33.549773  d\n",
       "36  48.519276  33.118684  d\n",
       "37  32.893559  50.588708  d\n",
       "38  34.415672  39.571407  d\n",
       "39  35.466513  34.745506  d\n",
       "40  43.083132  13.286934  e\n",
       "41  51.088702  11.139624  e\n",
       "42  45.552079   1.498931  e\n",
       "43  51.494189   3.579631  e\n",
       "44  57.578525  16.871489  e\n",
       "45  46.122069  15.394472  e\n",
       "46  59.221097   4.410934  e\n",
       "47  57.026625  19.515094  e\n",
       "48  49.305833   4.791154  e\n",
       "49  55.025798  11.413157  e"
      ]
     },
     "execution_count": 34,
     "metadata": {},
     "output_type": "execute_result"
    }
   ],
   "source": [
    "df_right"
   ]
  },
  {
   "cell_type": "code",
   "execution_count": 35,
   "metadata": {},
   "outputs": [],
   "source": [
    "def gini(df_partitioned, target_col):\n",
    "    counts = df_partitioned[target_col].value_counts()\n",
    "    gini = 1\n",
    "    for k,v in counts.iteritems():\n",
    "        gini -=(v/len(df_partitioned))**2\n",
    "    return gini"
   ]
  },
  {
   "cell_type": "code",
   "execution_count": 36,
   "metadata": {},
   "outputs": [
    {
     "data": {
      "text/plain": [
       "0.6249999999999999"
      ]
     },
     "execution_count": 36,
     "metadata": {},
     "output_type": "execute_result"
    }
   ],
   "source": [
    "gini(df_left, \"y\")"
   ]
  },
  {
   "cell_type": "code",
   "execution_count": 37,
   "metadata": {},
   "outputs": [
    {
     "data": {
      "text/plain": [
       "0.0"
      ]
     },
     "execution_count": 37,
     "metadata": {},
     "output_type": "execute_result"
    }
   ],
   "source": [
    "df_toy = df[df[\"y\"]==\"a\"]\n",
    "gini(df_toy,\"y\")"
   ]
  },
  {
   "cell_type": "code",
   "execution_count": 38,
   "metadata": {},
   "outputs": [
    {
     "data": {
      "text/plain": [
       "0.7999999999999998"
      ]
     },
     "execution_count": 38,
     "metadata": {},
     "output_type": "execute_result"
    }
   ],
   "source": [
    "gini(df,\"y\")"
   ]
  },
  {
   "cell_type": "code",
   "execution_count": 39,
   "metadata": {},
   "outputs": [],
   "source": [
    "def information_gain(left,right, current_impurity, target):\n",
    "    p = float(len(left))/(len(left)+len(right))\n",
    "    gain = current_impurity - (p*gini(left, target) + (1-p)*gini(right, target))\n",
    "    return gain"
   ]
  },
  {
   "cell_type": "code",
   "execution_count": 40,
   "metadata": {},
   "outputs": [
    {
     "data": {
      "text/plain": [
       "0.1615384615384614"
      ]
     },
     "execution_count": 40,
     "metadata": {},
     "output_type": "execute_result"
    }
   ],
   "source": [
    "first_impurity = gini(df, \"y\")\n",
    "p = Partition(\"x1\", 30)\n",
    "df_left, df_right = p.split_df(df)\n",
    "information_gain(df_left, df_right, first_impurity, \"y\")"
   ]
  },
  {
   "cell_type": "code",
   "execution_count": 41,
   "metadata": {},
   "outputs": [],
   "source": [
    "def find_best_split(df, target):\n",
    "    max_gain = 0\n",
    "    best_split = None\n",
    "    current_impurity = gini(df, target)\n",
    "    columns = [e for e in df.columns.tolist() if e != target]\n",
    "    for col in columns:\n",
    "        values = set(df[col].values)\n",
    "        for value in values:\n",
    "            p = Partition(col, value)\n",
    "            df_left, df_right = p.split_df(df)\n",
    "            if len(df_left)==0 or len(df_right) == 0:\n",
    "                continue\n",
    "            gain = information_gain(df_left,df_right,current_impurity, target)\n",
    "            if gain > max_gain:\n",
    "                max_gain = gain\n",
    "                best_split = [col, value]\n",
    "    return best_split, max_gain"
   ]
  },
  {
   "cell_type": "code",
   "execution_count": 42,
   "metadata": {},
   "outputs": [],
   "source": [
    "best_split, max_gain = find_best_split(df, \"y\")"
   ]
  },
  {
   "cell_type": "code",
   "execution_count": 43,
   "metadata": {},
   "outputs": [
    {
     "data": {
      "text/plain": [
       "0.1790209790209789"
      ]
     },
     "execution_count": 43,
     "metadata": {},
     "output_type": "execute_result"
    }
   ],
   "source": [
    "max_gain"
   ]
  },
  {
   "cell_type": "code",
   "execution_count": 44,
   "metadata": {},
   "outputs": [
    {
     "data": {
      "text/plain": [
       "['x1', 40.629558912358306]"
      ]
     },
     "execution_count": 44,
     "metadata": {},
     "output_type": "execute_result"
    }
   ],
   "source": [
    "best_split"
   ]
  },
  {
   "cell_type": "code",
   "execution_count": 45,
   "metadata": {},
   "outputs": [
    {
     "data": {
      "text/plain": [
       "[<matplotlib.lines.Line2D at 0x1a1c5d2f50>]"
      ]
     },
     "execution_count": 45,
     "metadata": {},
     "output_type": "execute_result"
    },
    {
     "data": {
      "image/png": "[encoded data removed]",
      "text/plain": [
       "<Figure size 402.375x360 with 1 Axes>"
      ]
     },
     "metadata": {
      "needs_background": "light"
     },
     "output_type": "display_data"
    }
   ],
   "source": [
    "import seaborn as sns\n",
    "sns.pairplot(x_vars=[\"x1\"],y_vars=[\"x2\"],data=df,hue=\"y\",size=5)\n",
    "plt.plot([23.149067567262026 for e in range(60)],[e for e in range(0,60)])"
   ]
  },
  {
   "cell_type": "code",
   "execution_count": 46,
   "metadata": {},
   "outputs": [],
   "source": [
    "class Leaf:\n",
    "    def __init__(self, df, target):\n",
    "        self.results = df[target].value_counts()/len(df)*100\n",
    "        \n",
    "class DecisionNode:\n",
    "    def __init__(self, best_split, left_decision, right_decision):\n",
    "        self.best_split = best_split\n",
    "        self.left_decision = left_decision\n",
    "        self.right_decision = right_decision"
   ]
  },
  {
   "cell_type": "code",
   "execution_count": 47,
   "metadata": {},
   "outputs": [],
   "source": [
    "def make_decision_tree(df, target):\n",
    "    best_split, gain = find_best_split(df, target)\n",
    "    if gain == 0 or gain is None:\n",
    "        return Leaf(df, target)\n",
    "    p = Partition(*best_split)\n",
    "    left, right = p.split_df(df)\n",
    "    left_decision = make_decision_tree(left, target)\n",
    "    right_decision = make_decision_tree(right, target)\n",
    "    return DecisionNode(best_split, left_decision, right_decision)"
   ]
  },
  {
   "cell_type": "code",
   "execution_count": 48,
   "metadata": {},
   "outputs": [],
   "source": [
    "tree = make_decision_tree(df,\"y\")"
   ]
  },
  {
   "cell_type": "code",
   "execution_count": 49,
   "metadata": {},
   "outputs": [],
   "source": [
    "def predict(node, df):\n",
    "    if isinstance(node, Leaf):\n",
    "        return node.results\n",
    "    col, value = node.best_split\n",
    "    if is_numeric(df, col):\n",
    "        if df[col] <= value:\n",
    "            return predict(node.left_decision, df)\n",
    "        else:\n",
    "            return predict(node.right_decision, df)\n",
    "    else:\n",
    "        if df[col] == value:\n",
    "            return predict(node.left_decision, df)\n",
    "        else:\n",
    "            return predict(node.right_decision, df)"
   ]
  },
  {
   "cell_type": "code",
   "execution_count": 50,
   "metadata": {},
   "outputs": [
    {
     "data": {
      "text/plain": [
       "x1     11.375\n",
       "x2    18.6632\n",
       "y           a\n",
       "Name: 0, dtype: object"
      ]
     },
     "execution_count": 50,
     "metadata": {},
     "output_type": "execute_result"
    }
   ],
   "source": [
    "df.iloc[0]"
   ]
  },
  {
   "cell_type": "code",
   "execution_count": 51,
   "metadata": {},
   "outputs": [
    {
     "data": {
      "text/plain": [
       "a    100.0\n",
       "Name: y, dtype: float64"
      ]
     },
     "execution_count": 51,
     "metadata": {},
     "output_type": "execute_result"
    }
   ],
   "source": [
    "predict(tree, df.iloc[0])"
   ]
  },
  {
   "cell_type": "code",
   "execution_count": 52,
   "metadata": {},
   "outputs": [],
   "source": [
    "df_test = pd.DataFrame([])\n",
    "x1 = []\n",
    "x1 += list(np.random.uniform(0,20,10))\n",
    "x1 += list(np.random.uniform(10,30,10))\n",
    "x1 += list(np.random.uniform(20,40,10))\n",
    "x1 += list(np.random.uniform(30,50,10))\n",
    "x1 += list(np.random.uniform(40,60,10))\n",
    "df_test[\"x1\"] = x1\n",
    "x2 = []\n",
    "x2 += list(np.random.uniform(10,25,10))\n",
    "x2 += list(np.random.uniform(25,40,10))\n",
    "x2 += list(np.random.uniform(0,30,10))\n",
    "x2 += list(np.random.uniform(30,35,10))\n",
    "x2 += list(np.random.uniform(13,17,10))\n",
    "df_test[\"x2\"] = x2\n",
    "y = []\n",
    "y += [\"a\"]*10\n",
    "y += [\"b\"]*10\n",
    "y += [\"c\"]*10\n",
    "y += [\"d\"]*10\n",
    "y += [\"e\"]*10\n",
    "df_test[\"y\"] = y"
   ]
  },
  {
   "cell_type": "code",
   "execution_count": 53,
   "metadata": {},
   "outputs": [
    {
     "data": {
      "text/plain": [
       "<seaborn.axisgrid.PairGrid at 0x1a1c150b50>"
      ]
     },
     "execution_count": 53,
     "metadata": {},
     "output_type": "execute_result"
    },
    {
     "data": {
      "image/png": "[encoded data removed]",
      "text/plain": [
       "<Figure size 402.375x360 with 1 Axes>"
      ]
     },
     "metadata": {
      "needs_background": "light"
     },
     "output_type": "display_data"
    }
   ],
   "source": [
    "import seaborn as sns\n",
    "sns.pairplot(x_vars=[\"x1\"], y_vars=[\"x2\"],data=df_test,hue=\"y\",size=5)"
   ]
  },
  {
   "cell_type": "code",
   "execution_count": 54,
   "metadata": {},
   "outputs": [
    {
     "data": {
      "text/plain": [
       "0.9"
      ]
     },
     "execution_count": 54,
     "metadata": {},
     "output_type": "execute_result"
    }
   ],
   "source": [
    "correct = 0\n",
    "for i in range(len(df_test)):\n",
    "    if predict(tree, df_test.iloc[i]).index[0] == df_test.iloc[i][\"y\"]:\n",
    "        correct += 1\n",
    "correct/len(df_test)"
   ]
  },
  {
   "cell_type": "code",
   "execution_count": 56,
   "metadata": {},
   "outputs": [
    {
     "data": {
      "text/plain": [
       "1.0"
      ]
     },
     "execution_count": 56,
     "metadata": {},
     "output_type": "execute_result"
    }
   ],
   "source": [
    "correct = 0\n",
    "for i in range(len(df)):\n",
    "    if predict(tree, df.iloc[i]).index[0] == df.iloc[i][\"y\"]:\n",
    "        correct += 1\n",
    "correct/len(df_test)"
   ]
  },
  {
   "cell_type": "code",
   "execution_count": null,
   "metadata": {},
   "outputs": [],
   "source": []
  }
 ],
 "metadata": {
  "kernelspec": {
   "display_name": "Python 3",
   "language": "python",
   "name": "python3"
  },
  "language_info": {
   "codemirror_mode": {
    "name": "ipython",
    "version": 3
   },
   "file_extension": ".py",
   "mimetype": "text/x-python",
   "name": "python",
   "nbconvert_exporter": "python",
   "pygments_lexer": "ipython3",
   "version": "3.7.4"
  }
 },
 "nbformat": 4,
 "nbformat_minor": 2
}
