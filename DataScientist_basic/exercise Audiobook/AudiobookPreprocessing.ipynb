{
 "cells": [
  {
   "cell_type": "code",
   "execution_count": 3,
   "metadata": {},
   "outputs": [],
   "source": [
    "import numpy as np\n",
    "\n",
    "from sklearn import preprocessing\n",
    "\n",
    "raw_csv_data = np.loadtxt('Audiobooks_data.csv', delimiter=',')\n",
    "\n",
    "unscaled_inputs_all = raw_csv_data[:,]\n",
    "\n",
    "targets_all = raw_csv_data[:,-1]"
   ]
  },
  {
   "cell_type": "code",
   "execution_count": 4,
   "metadata": {},
   "outputs": [],
   "source": [
    "num_one_targets = int(np.sum(targets_all))\n",
    "\n",
    "zero_targets_counter = 0\n",
    "\n",
    "indices_to_remove = []\n",
    "\n",
    "for i in range(targets_all.shape[0]):\n",
    "    if targets_all[i] == 0:\n",
    "        zero_targets_counter += 1\n",
    "        if zero_targets_counter > num_one_targets:\n",
    "            indices_to_remove.append(i)\n",
    "            \n",
    "unscaled_inputs_equal_priors = np.delete(unscaled_inputs_all, indices_to_remove,axis=0)\n",
    "targets_equal_priors = np.delete(targets_all, indices_to_remove,axis=0)"
   ]
  },
  {
   "cell_type": "code",
   "execution_count": 6,
   "metadata": {},
   "outputs": [],
   "source": [
    "scaled_inputs = preprocessing.scale(unscaled_inputs_equal_priors)"
   ]
  },
  {
   "cell_type": "code",
   "execution_count": 8,
   "metadata": {},
   "outputs": [],
   "source": [
    "shuffled_indices = np.arange(scaled_inputs.shape[0])\n",
    "np.random.shuffle(shuffled_indices)\n",
    "\n",
    "shuffled_inputs = scaled_inputs[shuffled_indices]\n",
    "shuffled_targets = targets_equal_priors[shuffled_indices]"
   ]
  },
  {
   "cell_type": "code",
   "execution_count": 10,
   "metadata": {},
   "outputs": [
    {
     "name": "stdout",
     "output_type": "stream",
     "text": [
      "1786.0 3579 0.4990220732048058\n",
      "229.0 447 0.5123042505592841\n",
      "222.0 448 0.4955357142857143\n"
     ]
    }
   ],
   "source": [
    "samples_count = shuffled_inputs.shape[0]\n",
    "\n",
    "train_samples_count = int(0.8 * samples_count)\n",
    "validation_samples_count = int(0.1 * samples_count)\n",
    "\n",
    "test_samples_count = samples_count - train_samples_count - validation_samples_count\n",
    "\n",
    "train_inputs = shuffled_inputs[:train_samples_count]\n",
    "train_targets = shuffled_targets[:train_samples_count]\n",
    "\n",
    "validation_inputs = shuffled_inputs[train_samples_count:train_samples_count+validation_samples_count]\n",
    "validation_targets = shuffled_targets[train_samples_count:train_samples_count+validation_samples_count]\n",
    "\n",
    "test_inputs = shuffled_inputs[train_samples_count+validation_samples_count:]\n",
    "test_targets = shuffled_targets[train_samples_count+validation_samples_count:]\n",
    "\n",
    "print(np.sum(train_targets), train_samples_count, np.sum(train_targets) / train_samples_count)\n",
    "print(np.sum(validation_targets), validation_samples_count, np.sum(validation_targets) / validation_samples_count)\n",
    "print(np.sum(test_targets), test_samples_count,np.sum(test_targets)/ test_samples_count)\n",
    "\n"
   ]
  },
  {
   "cell_type": "code",
   "execution_count": 11,
   "metadata": {},
   "outputs": [],
   "source": [
    "np.savez('Audiobooks_data_train', inputs=train_inputs, targets = train_targets)\n",
    "np.savez('Audiobooks_data_validation', inputs=validation_inputs, targets = validation_targets)\n",
    "np.savez('Audiobooks_data_test', inputs=test_inputs,targets=test_targets)"
   ]
  },
  {
   "cell_type": "code",
   "execution_count": 13,
   "metadata": {},
   "outputs": [],
   "source": [
    "import numpy as np\n",
    "import tensorflow as tf"
   ]
  },
  {
   "cell_type": "code",
   "execution_count": 14,
   "metadata": {},
   "outputs": [],
   "source": [
    "npz = np.load('Audiobooks_data_train.npz')\n",
    "\n",
    "train_inputs = npz['inputs'].astype(np.float)\n",
    "train_targets = npz['targets'].astype(np.int)\n",
    "\n",
    "npz = np.load('Audiobooks_data_validation.npz')\n",
    "\n",
    "validation_inputs, validation_targets = npz['inputs'].astype(np.float),npz['targets'].astype(np.int)\n",
    "\n",
    "npz = np.load('Audiobooks_data_test.npz')\n",
    "\n",
    "test_inputs, test_targets = npz['inputs'].astype(np.float), npz['targets'].astype(np.int)"
   ]
  },
  {
   "cell_type": "code",
   "execution_count": 17,
   "metadata": {},
   "outputs": [
    {
     "name": "stdout",
     "output_type": "stream",
     "text": [
      "Train on 3579 samples, validate on 447 samples\n",
      "Epoch 1/100\n",
      "3579/3579 - 1s - loss: 0.4894 - accuracy: 0.8287 - val_loss: 0.2323 - val_accuracy: 0.9955\n",
      "Epoch 2/100\n",
      "3579/3579 - 0s - loss: 0.1284 - accuracy: 0.9947 - val_loss: 0.0490 - val_accuracy: 1.0000\n",
      "Epoch 3/100\n",
      "3579/3579 - 0s - loss: 0.0305 - accuracy: 0.9980 - val_loss: 0.0136 - val_accuracy: 1.0000\n",
      "Epoch 4/100\n",
      "3579/3579 - 0s - loss: 0.0105 - accuracy: 1.0000 - val_loss: 0.0058 - val_accuracy: 1.0000\n",
      "Epoch 5/100\n",
      "3579/3579 - 0s - loss: 0.0050 - accuracy: 1.0000 - val_loss: 0.0033 - val_accuracy: 1.0000\n",
      "Epoch 6/100\n",
      "3579/3579 - 0s - loss: 0.0030 - accuracy: 1.0000 - val_loss: 0.0022 - val_accuracy: 1.0000\n",
      "Epoch 7/100\n",
      "3579/3579 - 0s - loss: 0.0020 - accuracy: 1.0000 - val_loss: 0.0016 - val_accuracy: 1.0000\n",
      "Epoch 8/100\n",
      "3579/3579 - 0s - loss: 0.0015 - accuracy: 1.0000 - val_loss: 0.0011 - val_accuracy: 1.0000\n",
      "Epoch 9/100\n",
      "3579/3579 - 0s - loss: 0.0011 - accuracy: 1.0000 - val_loss: 8.9014e-04 - val_accuracy: 1.0000\n",
      "Epoch 10/100\n",
      "3579/3579 - 0s - loss: 8.6456e-04 - accuracy: 1.0000 - val_loss: 7.2449e-04 - val_accuracy: 1.0000\n",
      "Epoch 11/100\n",
      "3579/3579 - 0s - loss: 6.9743e-04 - accuracy: 1.0000 - val_loss: 5.9659e-04 - val_accuracy: 1.0000\n",
      "Epoch 12/100\n",
      "3579/3579 - 0s - loss: 5.7615e-04 - accuracy: 1.0000 - val_loss: 4.9951e-04 - val_accuracy: 1.0000\n",
      "Epoch 13/100\n",
      "3579/3579 - 0s - loss: 4.8393e-04 - accuracy: 1.0000 - val_loss: 4.1816e-04 - val_accuracy: 1.0000\n",
      "Epoch 14/100\n",
      "3579/3579 - 0s - loss: 4.1119e-04 - accuracy: 1.0000 - val_loss: 3.6503e-04 - val_accuracy: 1.0000\n",
      "Epoch 15/100\n",
      "3579/3579 - 0s - loss: 3.5461e-04 - accuracy: 1.0000 - val_loss: 3.1819e-04 - val_accuracy: 1.0000\n",
      "Epoch 16/100\n",
      "3579/3579 - 0s - loss: 3.0894e-04 - accuracy: 1.0000 - val_loss: 2.7943e-04 - val_accuracy: 1.0000\n",
      "Epoch 17/100\n",
      "3579/3579 - 0s - loss: 2.7144e-04 - accuracy: 1.0000 - val_loss: 2.4857e-04 - val_accuracy: 1.0000\n",
      "Epoch 18/100\n",
      "3579/3579 - 0s - loss: 2.4015e-04 - accuracy: 1.0000 - val_loss: 2.2110e-04 - val_accuracy: 1.0000\n",
      "Epoch 19/100\n",
      "3579/3579 - 0s - loss: 2.1432e-04 - accuracy: 1.0000 - val_loss: 1.9926e-04 - val_accuracy: 1.0000\n",
      "Epoch 20/100\n",
      "3579/3579 - 0s - loss: 1.9236e-04 - accuracy: 1.0000 - val_loss: 1.7908e-04 - val_accuracy: 1.0000\n",
      "Epoch 21/100\n",
      "3579/3579 - 0s - loss: 1.7367e-04 - accuracy: 1.0000 - val_loss: 1.6315e-04 - val_accuracy: 1.0000\n",
      "Epoch 22/100\n",
      "3579/3579 - 0s - loss: 1.5718e-04 - accuracy: 1.0000 - val_loss: 1.4760e-04 - val_accuracy: 1.0000\n",
      "Epoch 23/100\n",
      "3579/3579 - 0s - loss: 1.4297e-04 - accuracy: 1.0000 - val_loss: 1.3475e-04 - val_accuracy: 1.0000\n",
      "Epoch 24/100\n",
      "3579/3579 - 0s - loss: 1.3065e-04 - accuracy: 1.0000 - val_loss: 1.2383e-04 - val_accuracy: 1.0000\n",
      "Epoch 25/100\n",
      "3579/3579 - 0s - loss: 1.1972e-04 - accuracy: 1.0000 - val_loss: 1.1370e-04 - val_accuracy: 1.0000\n",
      "Epoch 26/100\n",
      "3579/3579 - 0s - loss: 1.1023e-04 - accuracy: 1.0000 - val_loss: 1.0505e-04 - val_accuracy: 1.0000\n",
      "Epoch 27/100\n",
      "3579/3579 - 0s - loss: 1.0168e-04 - accuracy: 1.0000 - val_loss: 9.7690e-05 - val_accuracy: 1.0000\n",
      "Epoch 28/100\n",
      "3579/3579 - 0s - loss: 9.4054e-05 - accuracy: 1.0000 - val_loss: 9.0107e-05 - val_accuracy: 1.0000\n",
      "Epoch 29/100\n",
      "3579/3579 - 0s - loss: 8.7357e-05 - accuracy: 1.0000 - val_loss: 8.4013e-05 - val_accuracy: 1.0000\n",
      "Epoch 30/100\n",
      "3579/3579 - 0s - loss: 8.1241e-05 - accuracy: 1.0000 - val_loss: 7.8355e-05 - val_accuracy: 1.0000\n",
      "Epoch 31/100\n",
      "3579/3579 - 0s - loss: 7.5691e-05 - accuracy: 1.0000 - val_loss: 7.3306e-05 - val_accuracy: 1.0000\n",
      "Epoch 32/100\n",
      "3579/3579 - 0s - loss: 7.0754e-05 - accuracy: 1.0000 - val_loss: 6.8822e-05 - val_accuracy: 1.0000\n",
      "Epoch 33/100\n",
      "3579/3579 - 0s - loss: 6.6271e-05 - accuracy: 1.0000 - val_loss: 6.4692e-05 - val_accuracy: 1.0000\n",
      "Epoch 34/100\n",
      "3579/3579 - 0s - loss: 6.2197e-05 - accuracy: 1.0000 - val_loss: 6.0667e-05 - val_accuracy: 1.0000\n",
      "Epoch 35/100\n",
      "3579/3579 - 0s - loss: 5.8396e-05 - accuracy: 1.0000 - val_loss: 5.7223e-05 - val_accuracy: 1.0000\n",
      "Epoch 36/100\n",
      "3579/3579 - 0s - loss: 5.4949e-05 - accuracy: 1.0000 - val_loss: 5.4183e-05 - val_accuracy: 1.0000\n",
      "Epoch 37/100\n",
      "3579/3579 - 0s - loss: 5.1818e-05 - accuracy: 1.0000 - val_loss: 5.0946e-05 - val_accuracy: 1.0000\n",
      "Epoch 38/100\n",
      "3579/3579 - 0s - loss: 4.8908e-05 - accuracy: 1.0000 - val_loss: 4.8235e-05 - val_accuracy: 1.0000\n",
      "Epoch 39/100\n",
      "3579/3579 - 0s - loss: 4.6240e-05 - accuracy: 1.0000 - val_loss: 4.5619e-05 - val_accuracy: 1.0000\n",
      "Epoch 40/100\n",
      "3579/3579 - 0s - loss: 4.3750e-05 - accuracy: 1.0000 - val_loss: 4.3474e-05 - val_accuracy: 1.0000\n",
      "Epoch 41/100\n",
      "3579/3579 - 0s - loss: 4.1457e-05 - accuracy: 1.0000 - val_loss: 4.1266e-05 - val_accuracy: 1.0000\n",
      "Epoch 42/100\n",
      "3579/3579 - 0s - loss: 3.9346e-05 - accuracy: 1.0000 - val_loss: 3.9158e-05 - val_accuracy: 1.0000\n",
      "Epoch 43/100\n",
      "3579/3579 - 0s - loss: 3.7379e-05 - accuracy: 1.0000 - val_loss: 3.7238e-05 - val_accuracy: 1.0000\n",
      "Epoch 44/100\n",
      "3579/3579 - 0s - loss: 3.5540e-05 - accuracy: 1.0000 - val_loss: 3.5605e-05 - val_accuracy: 1.0000\n",
      "Epoch 45/100\n",
      "3579/3579 - 0s - loss: 3.3807e-05 - accuracy: 1.0000 - val_loss: 3.3971e-05 - val_accuracy: 1.0000\n",
      "Epoch 46/100\n",
      "3579/3579 - 0s - loss: 3.2229e-05 - accuracy: 1.0000 - val_loss: 3.2366e-05 - val_accuracy: 1.0000\n",
      "Epoch 47/100\n",
      "3579/3579 - 0s - loss: 3.0723e-05 - accuracy: 1.0000 - val_loss: 3.0883e-05 - val_accuracy: 1.0000\n",
      "Epoch 48/100\n",
      "3579/3579 - 0s - loss: 2.9309e-05 - accuracy: 1.0000 - val_loss: 2.9574e-05 - val_accuracy: 1.0000\n",
      "Epoch 49/100\n",
      "3579/3579 - 0s - loss: 2.8003e-05 - accuracy: 1.0000 - val_loss: 2.8395e-05 - val_accuracy: 1.0000\n",
      "Epoch 50/100\n",
      "3579/3579 - 0s - loss: 2.6768e-05 - accuracy: 1.0000 - val_loss: 2.7122e-05 - val_accuracy: 1.0000\n",
      "Epoch 51/100\n",
      "3579/3579 - 0s - loss: 2.5605e-05 - accuracy: 1.0000 - val_loss: 2.6009e-05 - val_accuracy: 1.0000\n",
      "Epoch 52/100\n",
      "3579/3579 - 0s - loss: 2.4515e-05 - accuracy: 1.0000 - val_loss: 2.5001e-05 - val_accuracy: 1.0000\n",
      "Epoch 53/100\n",
      "3579/3579 - 0s - loss: 2.3485e-05 - accuracy: 1.0000 - val_loss: 2.3927e-05 - val_accuracy: 1.0000\n",
      "Epoch 54/100\n",
      "3579/3579 - 0s - loss: 2.2510e-05 - accuracy: 1.0000 - val_loss: 2.2992e-05 - val_accuracy: 1.0000\n",
      "Epoch 55/100\n",
      "3579/3579 - 0s - loss: 2.1584e-05 - accuracy: 1.0000 - val_loss: 2.2105e-05 - val_accuracy: 1.0000\n",
      "Epoch 56/100\n",
      "3579/3579 - 0s - loss: 2.0718e-05 - accuracy: 1.0000 - val_loss: 2.1219e-05 - val_accuracy: 1.0000\n",
      "Epoch 57/100\n",
      "3579/3579 - 0s - loss: 1.9892e-05 - accuracy: 1.0000 - val_loss: 2.0461e-05 - val_accuracy: 1.0000\n",
      "Epoch 58/100\n",
      "3579/3579 - 0s - loss: 1.9122e-05 - accuracy: 1.0000 - val_loss: 1.9686e-05 - val_accuracy: 1.0000\n",
      "Epoch 59/100\n",
      "3579/3579 - 0s - loss: 1.8380e-05 - accuracy: 1.0000 - val_loss: 1.8920e-05 - val_accuracy: 1.0000\n",
      "Epoch 60/100\n",
      "3579/3579 - 0s - loss: 1.7678e-05 - accuracy: 1.0000 - val_loss: 1.8232e-05 - val_accuracy: 1.0000\n",
      "Epoch 61/100\n",
      "3579/3579 - 0s - loss: 1.7006e-05 - accuracy: 1.0000 - val_loss: 1.7618e-05 - val_accuracy: 1.0000\n",
      "Epoch 62/100\n",
      "3579/3579 - 0s - loss: 1.6381e-05 - accuracy: 1.0000 - val_loss: 1.7003e-05 - val_accuracy: 1.0000\n",
      "Epoch 63/100\n",
      "3579/3579 - 0s - loss: 1.5778e-05 - accuracy: 1.0000 - val_loss: 1.6394e-05 - val_accuracy: 1.0000\n",
      "Epoch 64/100\n",
      "3579/3579 - 0s - loss: 1.5207e-05 - accuracy: 1.0000 - val_loss: 1.5798e-05 - val_accuracy: 1.0000\n",
      "Epoch 65/100\n",
      "3579/3579 - 0s - loss: 1.4659e-05 - accuracy: 1.0000 - val_loss: 1.5271e-05 - val_accuracy: 1.0000\n",
      "Epoch 66/100\n",
      "3579/3579 - 0s - loss: 1.4140e-05 - accuracy: 1.0000 - val_loss: 1.4761e-05 - val_accuracy: 1.0000\n",
      "Epoch 67/100\n",
      "3579/3579 - 0s - loss: 1.3638e-05 - accuracy: 1.0000 - val_loss: 1.4254e-05 - val_accuracy: 1.0000\n",
      "Epoch 68/100\n",
      "3579/3579 - 0s - loss: 1.3172e-05 - accuracy: 1.0000 - val_loss: 1.3770e-05 - val_accuracy: 1.0000\n",
      "Epoch 69/100\n",
      "3579/3579 - 0s - loss: 1.2710e-05 - accuracy: 1.0000 - val_loss: 1.3317e-05 - val_accuracy: 1.0000\n",
      "Epoch 70/100\n",
      "3579/3579 - 0s - loss: 1.2285e-05 - accuracy: 1.0000 - val_loss: 1.2879e-05 - val_accuracy: 1.0000\n",
      "Epoch 71/100\n",
      "3579/3579 - 0s - loss: 1.1865e-05 - accuracy: 1.0000 - val_loss: 1.2439e-05 - val_accuracy: 1.0000\n",
      "Epoch 72/100\n",
      "3579/3579 - 0s - loss: 1.1468e-05 - accuracy: 1.0000 - val_loss: 1.2053e-05 - val_accuracy: 1.0000\n",
      "Epoch 73/100\n",
      "3579/3579 - 0s - loss: 1.1092e-05 - accuracy: 1.0000 - val_loss: 1.1670e-05 - val_accuracy: 1.0000\n",
      "Epoch 74/100\n",
      "3579/3579 - 0s - loss: 1.0729e-05 - accuracy: 1.0000 - val_loss: 1.1283e-05 - val_accuracy: 1.0000\n"
     ]
    },
    {
     "name": "stdout",
     "output_type": "stream",
     "text": [
      "Epoch 75/100\n",
      "3579/3579 - 0s - loss: 1.0379e-05 - accuracy: 1.0000 - val_loss: 1.0935e-05 - val_accuracy: 1.0000\n",
      "Epoch 76/100\n",
      "3579/3579 - 0s - loss: 1.0052e-05 - accuracy: 1.0000 - val_loss: 1.0618e-05 - val_accuracy: 1.0000\n",
      "Epoch 77/100\n",
      "3579/3579 - 0s - loss: 9.7286e-06 - accuracy: 1.0000 - val_loss: 1.0278e-05 - val_accuracy: 1.0000\n",
      "Epoch 78/100\n",
      "3579/3579 - 0s - loss: 9.4183e-06 - accuracy: 1.0000 - val_loss: 9.9679e-06 - val_accuracy: 1.0000\n",
      "Epoch 79/100\n",
      "3579/3579 - 0s - loss: 9.1261e-06 - accuracy: 1.0000 - val_loss: 9.6687e-06 - val_accuracy: 1.0000\n",
      "Epoch 80/100\n",
      "3579/3579 - 0s - loss: 8.8391e-06 - accuracy: 1.0000 - val_loss: 9.3647e-06 - val_accuracy: 1.0000\n",
      "Epoch 81/100\n",
      "3579/3579 - 0s - loss: 8.5658e-06 - accuracy: 1.0000 - val_loss: 9.0908e-06 - val_accuracy: 1.0000\n",
      "Epoch 82/100\n",
      "3579/3579 - 0s - loss: 8.3033e-06 - accuracy: 1.0000 - val_loss: 8.8292e-06 - val_accuracy: 1.0000\n",
      "Epoch 83/100\n",
      "3579/3579 - 0s - loss: 8.0530e-06 - accuracy: 1.0000 - val_loss: 8.5628e-06 - val_accuracy: 1.0000\n",
      "Epoch 84/100\n",
      "3579/3579 - 0s - loss: 7.8097e-06 - accuracy: 1.0000 - val_loss: 8.3207e-06 - val_accuracy: 1.0000\n",
      "Epoch 85/100\n",
      "3579/3579 - 0s - loss: 7.5771e-06 - accuracy: 1.0000 - val_loss: 8.0775e-06 - val_accuracy: 1.0000\n",
      "Epoch 86/100\n",
      "3579/3579 - 0s - loss: 7.3504e-06 - accuracy: 1.0000 - val_loss: 7.8537e-06 - val_accuracy: 1.0000\n",
      "Epoch 87/100\n",
      "3579/3579 - 0s - loss: 7.1357e-06 - accuracy: 1.0000 - val_loss: 7.6292e-06 - val_accuracy: 1.0000\n",
      "Epoch 88/100\n",
      "3579/3579 - 0s - loss: 6.9257e-06 - accuracy: 1.0000 - val_loss: 7.4084e-06 - val_accuracy: 1.0000\n",
      "Epoch 89/100\n",
      "3579/3579 - 0s - loss: 6.7270e-06 - accuracy: 1.0000 - val_loss: 7.1868e-06 - val_accuracy: 1.0000\n",
      "Epoch 90/100\n",
      "3579/3579 - 0s - loss: 6.5304e-06 - accuracy: 1.0000 - val_loss: 7.0065e-06 - val_accuracy: 1.0000\n",
      "Epoch 91/100\n",
      "3579/3579 - 0s - loss: 6.3423e-06 - accuracy: 1.0000 - val_loss: 6.8145e-06 - val_accuracy: 1.0000\n",
      "Epoch 92/100\n",
      "3579/3579 - 0s - loss: 6.1652e-06 - accuracy: 1.0000 - val_loss: 6.6158e-06 - val_accuracy: 1.0000\n",
      "Epoch 93/100\n",
      "3579/3579 - 0s - loss: 5.9872e-06 - accuracy: 1.0000 - val_loss: 6.4372e-06 - val_accuracy: 1.0000\n",
      "Epoch 94/100\n",
      "3579/3579 - 0s - loss: 5.8197e-06 - accuracy: 1.0000 - val_loss: 6.2636e-06 - val_accuracy: 1.0000\n",
      "Epoch 95/100\n",
      "3579/3579 - 0s - loss: 5.6571e-06 - accuracy: 1.0000 - val_loss: 6.0974e-06 - val_accuracy: 1.0000\n",
      "Epoch 96/100\n",
      "3579/3579 - 0s - loss: 5.4994e-06 - accuracy: 1.0000 - val_loss: 5.9326e-06 - val_accuracy: 1.0000\n",
      "Epoch 97/100\n",
      "3579/3579 - 0s - loss: 5.3483e-06 - accuracy: 1.0000 - val_loss: 5.7795e-06 - val_accuracy: 1.0000\n",
      "Epoch 98/100\n",
      "3579/3579 - 0s - loss: 5.1994e-06 - accuracy: 1.0000 - val_loss: 5.6179e-06 - val_accuracy: 1.0000\n",
      "Epoch 99/100\n",
      "3579/3579 - 0s - loss: 5.0589e-06 - accuracy: 1.0000 - val_loss: 5.4673e-06 - val_accuracy: 1.0000\n",
      "Epoch 100/100\n",
      "3579/3579 - 0s - loss: 4.9191e-06 - accuracy: 1.0000 - val_loss: 5.3273e-06 - val_accuracy: 1.0000\n"
     ]
    },
    {
     "data": {
      "text/plain": [
       "<tensorflow.python.keras.callbacks.History at 0x1a3c900f28>"
      ]
     },
     "execution_count": 17,
     "metadata": {},
     "output_type": "execute_result"
    }
   ],
   "source": [
    "input_size = 10\n",
    "output_size = 2\n",
    "\n",
    "hidden_layer_size = 50\n",
    "\n",
    "model = tf.keras.Sequential([\n",
    "    tf.keras.layers.Dense(hidden_layer_size, activation='relu'),\n",
    "    tf.keras.layers.Dense(hidden_layer_size, activation='relu'),\n",
    "    tf.keras.layers.Dense(output_size, activation='softmax')    \n",
    "])\n",
    "\n",
    "model.compile(optimizer='adam', loss='sparse_categorical_crossentropy', metrics=['accuracy'])\n",
    "\n",
    "batch_size = 100\n",
    "\n",
    "max_epochs = 100\n",
    "\n",
    "early_stopping = tf.keras.callbacks.EarlyStopping(patience=2)\n",
    "\n",
    "model.fit(train_inputs,\n",
    "         train_targets,\n",
    "         batch_size=batch_size,\n",
    "         epochs=max_epochs,\n",
    "         callbacks=[early_stopping],\n",
    "         validation_data=(validation_inputs,validation_targets),\n",
    "         verbose=2)"
   ]
  },
  {
   "cell_type": "code",
   "execution_count": 18,
   "metadata": {},
   "outputs": [
    {
     "name": "stdout",
     "output_type": "stream",
     "text": [
      "448/448 [==============================] - 0s 225us/sample - loss: 5.5400e-06 - accuracy: 1.0000\n"
     ]
    }
   ],
   "source": [
    "test_loss, test_accuracy = model.evaluate(test_inputs,test_targets)"
   ]
  },
  {
   "cell_type": "code",
   "execution_count": 19,
   "metadata": {},
   "outputs": [
    {
     "name": "stdout",
     "output_type": "stream",
     "text": [
      "\n",
      "Test loss: 0.00. Test accuracy: 100.00%\n"
     ]
    }
   ],
   "source": [
    "print('\\nTest loss: {0:.2f}. Test accuracy: {1:.2f}%'.format(test_loss, test_accuracy*100.))"
   ]
  },
  {
   "cell_type": "code",
   "execution_count": null,
   "metadata": {},
   "outputs": [],
   "source": []
  }
 ],
 "metadata": {
  "kernelspec": {
   "display_name": "Python 3",
   "language": "python",
   "name": "python3"
  },
  "language_info": {
   "codemirror_mode": {
    "name": "ipython",
    "version": 3
   },
   "file_extension": ".py",
   "mimetype": "text/x-python",
   "name": "python",
   "nbconvert_exporter": "python",
   "pygments_lexer": "ipython3",
   "version": "3.6.10"
  }
 },
 "nbformat": 4,
 "nbformat_minor": 4
}
