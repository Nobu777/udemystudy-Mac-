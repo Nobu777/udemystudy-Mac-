{
 "cells": [
  {
   "cell_type": "markdown",
   "metadata": {},
   "source": [
    "# ビジネスケース　Audiobooks"
   ]
  },
  {
   "cell_type": "markdown",
   "metadata": {},
   "source": [
    "## 機械学習アルゴリズムの作成\n",
    "\n",
    "\n"
   ]
  },
  {
   "cell_type": "markdown",
   "metadata": {},
   "source": [
    "### ライブラリのインポート"
   ]
  },
  {
   "cell_type": "code",
   "execution_count": null,
   "metadata": {},
   "outputs": [],
   "source": [
    "# 新たに一からコードを書いていきますので、再度ライブラリをインポートします\n",
    "import numpy as np\n",
    "import tensorflow as tf"
   ]
  },
  {
   "cell_type": "markdown",
   "metadata": {},
   "source": [
    "### データ"
   ]
  },
  {
   "cell_type": "code",
   "execution_count": null,
   "metadata": {},
   "outputs": [],
   "source": [
    "# まずは訓練データを一時的に読み込みます\n",
    "npz = np.load('Audiobooks_data_train.npz')\n",
    "\n",
    "# 訓練用のデータを入力とターゲットに分けて変数に代入していきます\n",
    "train_inputs = npz['inputs'].astype(np.float)\n",
    "train_targets = npz['targets'].astype(np.int)\n",
    "\n",
    "# 検証用データを一時的に読み込みます\n",
    "npz = np.load('Audiobooks_data_validation.npz')\n",
    "# 訓練用のデータを入力とターゲットに分けて変数に代入していきます\n",
    "validation_inputs, validation_targets = npz['inputs'].astype(np.float), npz['targets'].astype(np.int)\n",
    "\n",
    "# テストデータを一時的に読み込みます\n",
    "npz = np.load('Audiobooks_data_test.npz')\n",
    "# テスト用のデータを入力とターゲットに分けて変数に代入していきます\n",
    "test_inputs, test_targets = npz['inputs'].astype(np.float), npz['targets'].astype(np.int)"
   ]
  },
  {
   "cell_type": "markdown",
   "metadata": {},
   "source": [
    "### モデル"
   ]
  },
  {
   "cell_type": "code",
   "execution_count": null,
   "metadata": {},
   "outputs": [],
   "source": [
    "# 入力の数と出力の数を定義します\n",
    "input_size = 10\n",
    "output_size = 2\n",
    "# 隠れ層のユニットの数を定義します\n",
    "hidden_layer_size = 50\n",
    "    \n",
    "# モデルを作成していきます\n",
    "model = tf.keras.Sequential([\n",
    "    tf.keras.layers.Dense(hidden_layer_size, activation='relu'), # 1番目の隠れ層\n",
    "    tf.keras.layers.Dense(hidden_layer_size, activation='relu'), # 2番目の隠れ層\n",
    "    tf.keras.layers.Dense(output_size, activation='softmax') # 出力層\n",
    "])\n",
    "\n",
    "\n",
    "# 損失関数と最適化アルゴリズムを定義していきます\n",
    "model.compile(optimizer='adam', loss='sparse_categorical_crossentropy', metrics=['accuracy'])\n",
    "\n",
    "### 訓練\n",
    "\n",
    "# バッチサイズの設定\n",
    "batch_size = 100\n",
    "\n",
    "# 繰り返し回数の設定\n",
    "max_epochs = 100\n",
    "\n",
    "# アーリーストッピングの設定\n",
    "early_stopping = tf.keras.callbacks.EarlyStopping(patience=2)\n",
    "\n",
    "# モデルにデータを入れていきます\n",
    "model.fit(train_inputs, # 訓練データの入力\n",
    "          train_targets, # 訓練データのターゲット\n",
    "          batch_size=batch_size, # バッチサイズ\n",
    "          epochs=max_epochs, # 繰り返し回数\n",
    "          callbacks=[early_stopping], # アーリーストッピング\n",
    "          validation_data=(validation_inputs, validation_targets), # 検証データの指定\n",
    "          verbose = 2 # 結果の見た目を変更\n",
    "          ) \n"
   ]
  },
  {
   "cell_type": "markdown",
   "metadata": {},
   "source": [
    "## モデルのテスト"
   ]
  },
  {
   "cell_type": "code",
   "execution_count": null,
   "metadata": {},
   "outputs": [],
   "source": [
    "test_loss, test_accuracy = model.evaluate(test_inputs, test_targets)"
   ]
  },
  {
   "cell_type": "code",
   "execution_count": null,
   "metadata": {},
   "outputs": [],
   "source": [
    "print('\\nTest loss: {0:.2f}. Test accuracy: {1:.2f}%'.format(test_loss, test_accuracy*100.))"
   ]
  }
 ],
 "metadata": {
  "kernelspec": {
   "display_name": "Python 3",
   "language": "python",
   "name": "python3"
  },
  "language_info": {
   "codemirror_mode": {
    "name": "ipython",
    "version": 3
   },
   "file_extension": ".py",
   "mimetype": "text/x-python",
   "name": "python",
   "nbconvert_exporter": "python",
   "pygments_lexer": "ipython3",
   "version": "3.6.10"
  }
 },
 "nbformat": 4,
 "nbformat_minor": 2
}
