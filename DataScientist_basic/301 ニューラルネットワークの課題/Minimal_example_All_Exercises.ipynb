{
 "cells": [
  {
   "cell_type": "markdown",
   "metadata": {},
   "source": [
    "# 単線形回帰"
   ]
  },
  {
   "cell_type": "markdown",
   "metadata": {},
   "source": [
    "# 前と同じコードを使い、以下の問題を解きましょう\n",
    "    1. データの数を100,000に変えてみましょう\n",
    "    2. データの数を1,000,000に変えてみましょう\n",
    "    3. 学習率を変えてみましょう \n",
    "    4. 損失関数を変えてみましょう \n",
    "    5. L1ノルム損失を使ってみましょうL1ノルム損失は以下の通りです:\n",
    "## $$ \\Sigma_i = |y_i-t_i| $$\n",
    "    6. f(x,z) = 13*xs + 7*zs - 12の場合でモデルを作成してみましょう"
   ]
  },
  {
   "cell_type": "markdown",
   "metadata": {},
   "source": [
    "### ライブラリのインポート"
   ]
  },
  {
   "cell_type": "code",
   "execution_count": null,
   "metadata": {},
   "outputs": [],
   "source": [
    "import numpy as np\n",
    "\n",
    "# matplotlib と mpl_toolkits は必須ではないですが、グラフを書く際に必要となります。  \n",
    "import matplotlib.pyplot as plt\n",
    "from mpl_toolkits.mplot3d import Axes3D"
   ]
  },
  {
   "cell_type": "markdown",
   "metadata": {},
   "source": [
    "### 訓練させるためのランダムな入力データの作成"
   ]
  },
  {
   "cell_type": "code",
   "execution_count": null,
   "metadata": {
    "scrolled": false
   },
   "outputs": [],
   "source": [
    "# まずは作成したいデータの数を入れた変数を作成します\n",
    "observations = 1000\n",
    "\n",
    "# 入力の変数は2つです\n",
    "# 今回はそれをxとzとします\n",
    "# その値は一様分布を使ってランダムに決めていきます。uniformメソッドの引数は3つです(low, high, size).\n",
    "# xs と zs のサイズは1000 x 1です\n",
    "xs = np.random.uniform(low=-10, high=10, size=(observations,1))\n",
    "zs = np.random.uniform(-10, 10, (observations,1))\n",
    "\n",
    "# 2つの変数を一つの行列にします \n",
    "# column_stackは Numpy のメソッドであり、2つのベクトルを組み合わせて行列にします\n",
    "inputs = np.column_stack((xs,zs))\n",
    "\n",
    "# 行列のサイズは n x kとなり、 n はデータの数を示しており、 k は変数の数を示しています。つまり、今回は1000 x 2となります。\n",
    "print (inputs.shape)"
   ]
  },
  {
   "cell_type": "markdown",
   "metadata": {},
   "source": [
    "### ターゲットの作成"
   ]
  },
  {
   "cell_type": "code",
   "execution_count": null,
   "metadata": {},
   "outputs": [],
   "source": [
    "# ターゲットとする値にはランダムなノイズを加えます f(x,z) = 2x - 3z + 5 + <ノイズ>\n",
    "noise = np.random.uniform(-1, 1, (observations,1))\n",
    "\n",
    "# f(x,z) = 2x - 3z + 5 + noise の式を使ってターゲットを作成します\n",
    "# ここでは、重みはそれぞれ2と-3となり、バイアスは5です\n",
    "targets = 2*xs - 3*zs + 5 + noise\n",
    "\n",
    "# 念の為、ターゲットのサイズを確認しておきましょう。今回の場合はn x mであり、mは出力の数ということから1000 x 1となります\n",
    "print (targets.shape)"
   ]
  },
  {
   "cell_type": "markdown",
   "metadata": {},
   "source": [
    "### 訓練データのプロット"
   ]
  },
  {
   "cell_type": "code",
   "execution_count": null,
   "metadata": {},
   "outputs": [],
   "source": [
    "# 3D plotを使うためにはオブジェクトはある形状でなければいけないことから、reshapeメソッドを使っていきます\n",
    "targets = targets.reshape(observations,)\n",
    "\n",
    "# matplotlib.pyplotを使って散布図を作成していきます\n",
    "\n",
    "# 変数を宣言します\n",
    "fig = plt.figure()\n",
    "\n",
    "# 3dのグラフを作成するためのメソッドを書いていきます\n",
    "ax = fig.add_subplot(111, projection='3d')\n",
    "\n",
    "# 軸を選びます\n",
    "ax.plot(xs, zs, targets)\n",
    "\n",
    "# ラベルに名前を付けます\n",
    "ax.set_xlabel('xs')\n",
    "ax.set_ylabel('zs')\n",
    "ax.set_zlabel('Targets')\n",
    "\n",
    "# azimの値を変えることで、グラフをどこから見るのかという点を変更することができます\n",
    "ax.view_init(azim=100)\n",
    "\n",
    "# 実際に散布図を表示していきます \n",
    "plt.show()\n",
    "\n",
    "# ターゲットの形状を元に戻していきます\n",
    "targets = targets.reshape(observations,1)"
   ]
  },
  {
   "cell_type": "markdown",
   "metadata": {},
   "source": [
    "### 変数の初期化"
   ]
  },
  {
   "cell_type": "code",
   "execution_count": null,
   "metadata": {},
   "outputs": [],
   "source": [
    "# 重みとバイアスを、ある範囲でランダムに決めていきます\n",
    "# その範囲を決める変数としてinit_rangeを定義します\n",
    "init_range = 0.1\n",
    "\n",
    "# 重みのサイズは k x mであり k は入力の数、 m は出力の数です\n",
    "# 今回の場合においては、重みの行列は2x1となります。\n",
    "weights = np.random.uniform(low=-init_range, high=init_range, size=(2, 1))\n",
    "\n",
    "# バイアスのサイズは1であり、スカラーとなります\n",
    "biases = np.random.uniform(low=-init_range, high=init_range, size=1)\n",
    "\n",
    "#初期化の結果を確認してみましょう\n",
    "print (weights)\n",
    "print (biases)"
   ]
  },
  {
   "cell_type": "markdown",
   "metadata": {},
   "source": [
    "### 学習率の設定"
   ]
  },
  {
   "cell_type": "code",
   "execution_count": null,
   "metadata": {},
   "outputs": [],
   "source": [
    "# 今回の例では、学習率が0.02だと非常に良く機能します。\n",
    "learning_rate = 0.02"
   ]
  },
  {
   "cell_type": "markdown",
   "metadata": {},
   "source": [
    "### モデルの訓練"
   ]
  },
  {
   "cell_type": "code",
   "execution_count": null,
   "metadata": {
    "scrolled": true
   },
   "outputs": [],
   "source": [
    "# 今回は繰り返しの回数は100回とします\n",
    "for i in range (100):\n",
    "    \n",
    "    # y = xw + b の線形モデルの等式です\n",
    "    outputs = np.dot(inputs,weights) + biases\n",
    "    # デルタは出力とターゲットの差を示しています\n",
    "    # ここではデルタは1000x1のベクトルです\n",
    "    deltas = outputs - targets\n",
    "        \n",
    "    # L2ノルム損失を使って損失の計算をしていきます。値を2で割っていますが、これは最小値を見つけるという意味では影響はありません。\n",
    "    # また、コードを一般化させるためにデータの数で割っています。\n",
    "    loss = np.sum(deltas ** 2) / 2 / observations\n",
    "    \n",
    "    # それぞれの繰り返しにおける損失関数の値を出力します.\n",
    "    print (loss)\n",
    "    \n",
    "    # 損失関数の場合と同じように、デルタに関してもデータの数で割っていきます\n",
    "    deltas_scaled = deltas / observations\n",
    "    \n",
    "    # 勾配降下法のアルゴリズムを適用していきます\n",
    "    # 重みは2x1, 学習率は1x1 (scalar), 入力は1000x2, デルタは1000x1となります\n",
    "    # 演算を適切に行うために、入力の転置を取ります\n",
    "    weights = weights - learning_rate * np.dot(inputs.T,deltas_scaled)\n",
    "    biases = biases - learning_rate * np.sum(deltas_scaled)"
   ]
  },
  {
   "cell_type": "markdown",
   "metadata": {},
   "source": [
    "### 重みとバイアスの出力"
   ]
  },
  {
   "cell_type": "code",
   "execution_count": null,
   "metadata": {},
   "outputs": [],
   "source": [
    "# 重みとバイアスの値が適切かどうか確認しましょう。（重みは2と-3、バイアスは5でした。）\n",
    "print (weights, biases)"
   ]
  },
  {
   "cell_type": "markdown",
   "metadata": {},
   "source": [
    "### 出力とターゲットの図示\n",
    "出力とターゲットを散布図に示し、もしその直線が45度に近ければ、正しい（出力とターゲットの値が同じに近い）ということができます。"
   ]
  },
  {
   "cell_type": "code",
   "execution_count": null,
   "metadata": {},
   "outputs": [],
   "source": [
    "plt.plot(outputs,targets)\n",
    "plt.xlabel('outputs')\n",
    "plt.ylabel('targets')\n",
    "plt.show()"
   ]
  }
 ],
 "metadata": {
  "anaconda-cloud": {},
  "kernelspec": {
   "display_name": "Python 3",
   "language": "python",
   "name": "python3"
  },
  "language_info": {
   "codemirror_mode": {
    "name": "ipython",
    "version": 3
   },
   "file_extension": ".py",
   "mimetype": "text/x-python",
   "name": "python",
   "nbconvert_exporter": "python",
   "pygments_lexer": "ipython3",
   "version": "3.7.4"
  }
 },
 "nbformat": 4,
 "nbformat_minor": 1
}
